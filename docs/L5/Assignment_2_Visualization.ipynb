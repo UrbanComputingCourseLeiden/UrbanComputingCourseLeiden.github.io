{
  "nbformat": 4,
  "nbformat_minor": 0,
  "metadata": {
    "colab": {
      "name": "Assignment 2 Visualization.ipynb",
      "version": "0.3.2",
      "provenance": []
    },
    "kernelspec": {
      "display_name": "Python 3",
      "language": "python",
      "name": "python3"
    }
  },
  "cells": [
    {
      "metadata": {
        "id": "qx5CKsL7w0hO",
        "colab_type": "text"
      },
      "cell_type": "markdown",
      "source": [
        "**Student Name:**          "
      ]
    },
    {
      "metadata": {
        "id": "wCUy75rbw0hR",
        "colab_type": "text"
      },
      "cell_type": "markdown",
      "source": [
        "**Student Number: **"
      ]
    },
    {
      "metadata": {
        "id": "z45FwNxZw0hT",
        "colab_type": "text"
      },
      "cell_type": "markdown",
      "source": [
        "In this assignment, you will be asked to use your knowledge about spatial correlation functions and spatial weights to visualize several world bank data sets. Please be aware that your code is just part of the grade. The actual visualization as well as the interpretations will be graded as well. \n",
        "\n",
        "\n",
        "Submit the notebook ***and*** the pdf of your notebook via blackboard. Please use your studentnumber as file name (i.e. s145678.pdf and s145678.ipny). \n",
        "\n",
        "Tasks:\n",
        "\n",
        "    1) select 2 SDGs \n",
        "    2) formulate your research question \n",
        "    3) transform data into weight matrices, plot a Moran's plot and interpret it\n",
        "    4) display data in Choropleth Map (Bonus: Cartogram + 20% )\n",
        "    5) answer your research question in a 200 word summary\n",
        " "
      ]
    },
    {
      "metadata": {
        "id": "LhlR6w2qw0hW",
        "colab_type": "text"
      },
      "cell_type": "markdown",
      "source": [
        "***Task 1***"
      ]
    },
    {
      "metadata": {
        "id": "pULi3Jovw0hX",
        "colab_type": "text"
      },
      "cell_type": "markdown",
      "source": [
        "On this website: https://www.un.org/sustainabledevelopment/sustainable-development-goals/ the UN summarizes their sustainable development goals (SDGs). \n",
        "\n",
        "Select two goals to work on for this assignment.\n"
      ]
    },
    {
      "metadata": {
        "id": "m1ZfzjTtw0ha",
        "colab_type": "text"
      },
      "cell_type": "markdown",
      "source": [
        "**I will be working on these two goals:**\n",
        "    "
      ]
    },
    {
      "metadata": {
        "id": "hhWySj0hw0hc",
        "colab_type": "text"
      },
      "cell_type": "markdown",
      "source": [
        ""
      ]
    },
    {
      "metadata": {
        "id": "Gme3qsUXw0he",
        "colab_type": "text"
      },
      "cell_type": "markdown",
      "source": [
        "We would like you to focus on the African Continent for this exercise. Find shapefiles for the map of Africa and let us know where you found the shapefiles. Also let us know in which year the shapefiles were created (hint: South Sudan)"
      ]
    },
    {
      "metadata": {
        "id": "kPlCTLo1w0hh",
        "colab_type": "text"
      },
      "cell_type": "markdown",
      "source": [
        "**Link to shapefiles:** "
      ]
    },
    {
      "metadata": {
        "id": "I7y--GtOw0hj",
        "colab_type": "text"
      },
      "cell_type": "markdown",
      "source": [
        ""
      ]
    },
    {
      "metadata": {
        "id": "l4Xs_xi4w0hk",
        "colab_type": "text"
      },
      "cell_type": "markdown",
      "source": [
        "**Year shapefiles were created:**"
      ]
    },
    {
      "metadata": {
        "id": "3jlVOjKew0hm",
        "colab_type": "text"
      },
      "cell_type": "markdown",
      "source": [
        ""
      ]
    },
    {
      "metadata": {
        "id": "xPzBYRnGw0hn",
        "colab_type": "text"
      },
      "cell_type": "markdown",
      "source": [
        "***Task 2***"
      ]
    },
    {
      "metadata": {
        "id": "AiGZAGmxw0ho",
        "colab_type": "text"
      },
      "cell_type": "markdown",
      "source": [
        "For every SDG, you can find \"Goal x targets\" on the UN website. Use these targets to formulate at least one question per SDG (i.e., at least two questions that you want to answer). The question can be about the current state of a SDG in Africa, comparing countries/regions within Africa or a longitudinal comparison of a region. \n",
        "\n",
        "Make your researchquestion concrete. Something like \"What is the state of SDG 7 in Africa?\" is too broad. Something like: \"Using variable x a proxy for the development of SDG 7, how do the West-African Countries fare compared to the rest of Africa?\" is much more concrete, and narrows your question down to an achievable outcome. It also gives you something to discuss in your report.   \n",
        "\n",
        "Discuss your research question on the Blackboard forum if you are not sure. Help each other, also by asking for help if you are not used to formulate research questions yourself! \n",
        "\n",
        "\n",
        "We will answer questions and doubts about research questions on the Blackboard forum until **March 19th **. That means: if you would like to have us check your question before you continue working on this assignment, make sure you post it until March 19th, we will answer as quickly as possible. After March 19th, we will not check individual research questions, but you will still be able to see what we answered and you can refer to the forum as a guideline. \n"
      ]
    },
    {
      "metadata": {
        "id": "b-TgLFDDw0hq",
        "colab_type": "text"
      },
      "cell_type": "markdown",
      "source": [
        "**My research questions:**\n",
        "\n",
        "***1st question:***\n",
        "\n",
        "***2nd question:***"
      ]
    },
    {
      "metadata": {
        "id": "zhkwAksvw0hs",
        "colab_type": "text"
      },
      "cell_type": "markdown",
      "source": [
        "On the worldbank website, you can easily find matching data: https://datacatalog.worldbank.org/dataset/sustainable-development-goals. You are free to use other data sources. Make sure to share them with us though. \n",
        "\n",
        "**Important:**\n",
        "\n",
        "! We want to re-run your analyses, so please include a link to the data that you are using in your submission!\n",
        "\n",
        "\n"
      ]
    },
    {
      "metadata": {
        "id": "PhMSOZJRw0hu",
        "colab_type": "text"
      },
      "cell_type": "markdown",
      "source": [
        "**Links to data: **"
      ]
    },
    {
      "metadata": {
        "id": "qGMe8h_Lw0hx",
        "colab_type": "text"
      },
      "cell_type": "markdown",
      "source": [
        ""
      ]
    },
    {
      "metadata": {
        "id": "IhupTGNNw0h0",
        "colab_type": "text"
      },
      "cell_type": "markdown",
      "source": [
        "**Task 3**"
      ]
    },
    {
      "metadata": {
        "id": "nOiQJQ3kw0h1",
        "colab_type": "text"
      },
      "cell_type": "markdown",
      "source": [
        "In Lab 4 (http://darribas.org/gds16/labs/Lab_04.html) by Dani Arribas, you can see examples of weight matrices and at the end an explanation of spatial lag and the Morans plot (Watch out, this is not Moran's I/ Moran's spatial autocorrelation, which is also often calculated in spatial analytics). \n",
        "Read and understand the concept of spatial lag first. In a Moran's plot, you can show how the value of a variable relates to it's spatial lag (or the average of this value in the surrounding areas). \n",
        "\n",
        "Your tasks:\n",
        "\n",
        "Create two Morans plots based on the variables related to your research questions and interpret them: \n",
        "\n",
        "What can you say about the entire continent?\n",
        "\n",
        "Can you find meaningful subregions? \n",
        "\n",
        "What if you use block weights around those subregions and re-run the analysis? "
      ]
    },
    {
      "metadata": {
        "id": "V3Dltrlrw0h2",
        "colab_type": "code",
        "colab": {}
      },
      "cell_type": "code",
      "source": [
        "#Spatial lag, Morans Plot"
      ],
      "execution_count": 0,
      "outputs": []
    },
    {
      "metadata": {
        "id": "1L-XIye8w0h7",
        "colab_type": "text"
      },
      "cell_type": "markdown",
      "source": [
        "**Interpretation:**"
      ]
    },
    {
      "metadata": {
        "id": "du_oU-_6w0h-",
        "colab_type": "text"
      },
      "cell_type": "markdown",
      "source": [
        ""
      ]
    },
    {
      "metadata": {
        "id": "nnyjEEr2w0iA",
        "colab_type": "text"
      },
      "cell_type": "markdown",
      "source": [
        "***Task 4***"
      ]
    },
    {
      "metadata": {
        "id": "o5JDbgbqw0iD",
        "colab_type": "text"
      },
      "cell_type": "markdown",
      "source": [
        "Use the same two variables you used in Task 3 and create a Choropleth Map. Choose a color-blind proof colour combination and indicate where you found it.\n",
        "\n",
        "\n",
        "Does the map correspond to the findings in Morans plot?\n"
      ]
    },
    {
      "metadata": {
        "id": "IfRZoyebw0iF",
        "colab_type": "text"
      },
      "cell_type": "markdown",
      "source": [
        "**Chosen Colour map**: "
      ]
    },
    {
      "metadata": {
        "id": "YXIYhRuTw0iG",
        "colab_type": "code",
        "colab": {}
      },
      "cell_type": "code",
      "source": [
        "#Choropleth Map"
      ],
      "execution_count": 0,
      "outputs": []
    },
    {
      "metadata": {
        "id": "YH2z2WA9w0iK",
        "colab_type": "text"
      },
      "cell_type": "markdown",
      "source": [
        "**Interpretation:**"
      ]
    },
    {
      "metadata": {
        "id": "byLKma1lw0iK",
        "colab_type": "text"
      },
      "cell_type": "markdown",
      "source": [
        ""
      ]
    },
    {
      "metadata": {
        "id": "GMxlIdC8w0iL",
        "colab_type": "text"
      },
      "cell_type": "markdown",
      "source": [
        "For Bonuspoints (20%), you can create a Cartogram based on one of the variables. Can you find a way to run it all in python? We are looking forward to your solutions!"
      ]
    },
    {
      "metadata": {
        "id": "bKpQ07cBw0iM",
        "colab_type": "code",
        "colab": {}
      },
      "cell_type": "code",
      "source": [
        "#Cartograms"
      ],
      "execution_count": 0,
      "outputs": []
    },
    {
      "metadata": {
        "id": "IKrnc1kuw0iO",
        "colab_type": "text"
      },
      "cell_type": "markdown",
      "source": [
        "***Task 5***"
      ]
    },
    {
      "metadata": {
        "id": "h9OjKW1fw0iP",
        "colab_type": "text"
      },
      "cell_type": "markdown",
      "source": [
        "You visualized two variables related to your research questions. How would you interpret your findings and how does it help you to answer your research question? Which extra variables would you like to use, what information are you missing? Try to answer your research question and don't shy away from suggesting future research. "
      ]
    },
    {
      "metadata": {
        "collapsed": true,
        "id": "HR3lfrZ1w0iQ",
        "colab_type": "text"
      },
      "cell_type": "markdown",
      "source": [
        "**Answer your research question in 400 words:**"
      ]
    },
    {
      "metadata": {
        "id": "LbFgvbSCw0iR",
        "colab_type": "text"
      },
      "cell_type": "markdown",
      "source": [
        ""
      ]
    }
  ]
}