{
 "cells": [
  {
   "cell_type": "markdown",
   "metadata": {
    "colab_type": "text",
    "id": "qNa1G8WGQM_3"
   },
   "source": [
    "### This assignment consists of five parts:\n",
    "\n",
    "1.   Create synthetic data to test the algorithm you desing\n",
    "2.   Write two functions: (i) autocorrelation and (ii) period extraction function\n",
    "3.   Use a periodogram function (possibility for bonus points)\n",
    "\n",
    "4.   Compare sensitivity of the algorithms to typical imperfections that happen in real data (noise, missing data, random and non-periodic patterns,)\n",
    "\n",
    "5.    Test the algorithms on geolife data\n",
    " \n"
   ]
  },
  {
   "cell_type": "markdown",
   "metadata": {
    "colab_type": "text",
    "id": "zGY4o3bCvNN8"
   },
   "source": [
    "Part 1. to 3. will make up 70 % of your grade, part 4. and 5. constitute 30% of your grade. There is a bonus that you can gain in part 3 (you'll get up to 10% )."
   ]
  },
  {
   "cell_type": "markdown",
   "metadata": {
    "colab_type": "text",
    "id": "10aZqTKxxKbO"
   },
   "source": [
    "**WARNING: Make sure to read through the entire assignment before starting to code. The tasks build on each other!**"
   ]
  },
  {
   "cell_type": "markdown",
   "metadata": {
    "colab_type": "text",
    "id": "3CAIa-JQzsjY"
   },
   "source": [
    "Good luck with the assignment! Deadline is February 28th, at 23:55 hrs. Please hand in your .ipynb and .pdf via blackboard. \n"
   ]
  },
  {
   "cell_type": "markdown",
   "metadata": {
    "colab_type": "text",
    "id": "DxJvqttRQM_8"
   },
   "source": [
    "\n",
    "\n",
    "**1st part: Create Synthetic Data**\n",
    "\n",
    "Imagine that you have GPS device set to take measurements every few time intervals. Simulate first clean trajectory data with two periodicities for 365 days. The trajectory data should include two types of periodicities (e.g. one weekly and one daily). For example you could take your Home-Snellius trajectory as a daily trajectory and your weekly trip to the supermarktet as the second one. Simulate the whole trajectory, path and the time you spend in each palce. You can find GPS locations via google maps (right click on map - what is here?) or any other online map service. Try to think of scenarios that make this data as accurate as possible. (You can be creative about your home location because that's private information!)\n",
    "\n",
    "The GPS location of the entrance of the Snellius building is: 52.169709, 4.457111. \n",
    "\n",
    "Use a constant time between way points/ GPS locations for this exercise.\n",
    "\n",
    "Tip: a periodicity of 24 is recurring event at every 24 hrs (i.e. a daily event), a periodicity of 168 hrs is a weekly event. A time series that is 24-168 is data with a daily recurring event and one weekly recurring event. \n",
    "Tip: We talked so far about processing one time-series. In case two time-series acquired from two coordinates is difficult to handle, try to use only one, or combine them into one value (e.g. lat^2 + long^2)\n"
   ]
  },
  {
   "cell_type": "code",
   "execution_count": 0,
   "metadata": {
    "colab": {},
    "colab_type": "code",
    "collapsed": true,
    "id": "SJ8CdduCQM__"
   },
   "outputs": [],
   "source": [
    "#simulate data:\n"
   ]
  },
  {
   "cell_type": "code",
   "execution_count": 0,
   "metadata": {
    "colab": {},
    "colab_type": "code",
    "collapsed": true,
    "id": "sO9FpDH6cVqR"
   },
   "outputs": [],
   "source": []
  },
  {
   "cell_type": "markdown",
   "metadata": {
    "colab_type": "text",
    "id": "wSett7xdQNAF"
   },
   "source": [
    "### 2nd part: Write two functions\n",
    "\n",
    "Your task is to write a) a function that performs an Autocorrelation on the simulated data and plots a Autocorrelation graph b) a function that evaluates the output of autocorrelation and extracts the two simulated periodicities as output. Construct the second function such that it will return two numbers as periodic components (24, 168) and indicate which periodicity is more prominent. \n",
    "\n"
   ]
  },
  {
   "cell_type": "code",
   "execution_count": 0,
   "metadata": {
    "colab": {},
    "colab_type": "code",
    "collapsed": true,
    "id": "kmdZFtimQNAH"
   },
   "outputs": [],
   "source": [
    "#write your own ACF\n"
   ]
  },
  {
   "cell_type": "code",
   "execution_count": 0,
   "metadata": {
    "colab": {},
    "colab_type": "code",
    "collapsed": true,
    "id": "JLcMFTeGQNAS"
   },
   "outputs": [],
   "source": [
    "#display ACF on y-axis, time on x-axis\n"
   ]
  },
  {
   "cell_type": "code",
   "execution_count": 0,
   "metadata": {
    "colab": {},
    "colab_type": "code",
    "collapsed": true,
    "id": "DwjMyOm5xkFg"
   },
   "outputs": [],
   "source": [
    "#write your evaluation function"
   ]
  },
  {
   "cell_type": "markdown",
   "metadata": {
    "colab_type": "text",
    "id": "qPY9JFyixvBQ"
   },
   "source": [
    "### 3rd part: Periodograms\n",
    "Take a periodogram function from available functions in python and run it on the simulated data. Does your evaluation function from the 2nd part works on the results of the periodogram? If not desing another algorithm for extracting periods from the periodogram.\n",
    "Bonuspoints for writing your own periodogram function."
   ]
  },
  {
   "cell_type": "code",
   "execution_count": 0,
   "metadata": {
    "colab": {},
    "colab_type": "code",
    "collapsed": true,
    "id": "hjS6A44QyD0a"
   },
   "outputs": [],
   "source": [
    "#work with periodogram"
   ]
  },
  {
   "cell_type": "code",
   "execution_count": 0,
   "metadata": {
    "colab": {},
    "colab_type": "code",
    "collapsed": true,
    "id": "wduxrd5SyGjq"
   },
   "outputs": [],
   "source": [
    "#evaluate results of periodogram"
   ]
  },
  {
   "cell_type": "markdown",
   "metadata": {
    "colab_type": "text",
    "id": "GC7VELIzQNAX"
   },
   "source": [
    "### 4th part: Performance\n",
    "\n",
    "Noise can occur at different levels in this data:\n",
    "\n",
    "- missing measurements at different proportions (randomly or in bursts)\n",
    "- noise around the location data\n",
    "- noise around the temporal data\n",
    "- irregular behavior (i.e. skipping or adding a trajectory; for example going to school on a saturday or not going grocery shopping for a week)\n",
    "\n",
    "Choose at least two noise sources, add them to your simulated data and compare the performance of your ACF and periodogram function. Parametarazie your process of injecting these uncertainties and check how sentitive your algorithms are to different proportions of these sources of imperfections.  Which one performs best? Under which circumstances?\n",
    "\n"
   ]
  },
  {
   "cell_type": "code",
   "execution_count": 0,
   "metadata": {
    "colab": {},
    "colab_type": "code",
    "collapsed": true,
    "id": "eQhc21cMQNAY"
   },
   "outputs": [],
   "source": [
    "#compare performance\n"
   ]
  },
  {
   "cell_type": "markdown",
   "metadata": {
    "colab_type": "text",
    "id": "OZPJj_OrzGSH"
   },
   "source": [
    "Write here a little report on your findings (150 words max):"
   ]
  },
  {
   "cell_type": "markdown",
   "metadata": {
    "colab_type": "text",
    "id": "V6yj3JXRQNAv"
   },
   "source": [
    "***5th part: Real life data***\n",
    "\n",
    "You will use data from the geolife data sets to test the analysis methods that you worked with.\n",
    "\n",
    "Your task is to run the analysis methods you just learnt and interpret your findings. \n",
    "\n",
    "Download the data here: https://www.microsoft.com/en-us/download/details.aspx?id=52367. Select one participant (the participants differ a lot in terms of number of trajectories collected, you might want to check several participants) and find out as much as you can about that participant. \n",
    "\n",
    "The user guide of the entire dataset can be found here:\n",
    "https://www.microsoft.com/en-us/research/wp-content/uploads/2016/02/User20Guide-1.2.pdf\n",
    "\n",
    "Use these questions as a guideline for your interpretation: \n",
    "\n",
    "- Where was the data gathered? Can you find frequently visited locations by exploring the data?\n",
    "\n",
    "- What is the general structure of your data? How much noise do you expect? What is the temporal granularity of your data? How long did your participant log their movement for?\n",
    "\n",
    "- Can you find periodic behaviors? Of which time?\n",
    "\n",
    "- If you cannot identify periodic behaviors: can you say why? What makes your data challenging? What realistic aspects of data was missing in your simulation? Having these challenges in mind: If you were to design a data collection protocol, what would be your topmost priorities?\n",
    "\n"
   ]
  },
  {
   "cell_type": "code",
   "execution_count": 0,
   "metadata": {
    "colab": {},
    "colab_type": "code",
    "collapsed": true,
    "id": "JJ4ULbdhQNAw"
   },
   "outputs": [],
   "source": [
    "#import data \n"
   ]
  },
  {
   "cell_type": "code",
   "execution_count": 0,
   "metadata": {
    "colab": {},
    "colab_type": "code",
    "collapsed": true,
    "id": "QFUxf8UyQNAz"
   },
   "outputs": [],
   "source": [
    "#some general exploratory statistics to find out more about your participant\n"
   ]
  },
  {
   "cell_type": "code",
   "execution_count": 0,
   "metadata": {
    "colab": {},
    "colab_type": "code",
    "collapsed": true,
    "id": "YNaWFIG-QNA1"
   },
   "outputs": [],
   "source": [
    "#run (your own) ACF \n"
   ]
  },
  {
   "cell_type": "code",
   "execution_count": 0,
   "metadata": {
    "colab": {},
    "colab_type": "code",
    "collapsed": true,
    "id": "_LFEa3-aQNA3"
   },
   "outputs": [],
   "source": [
    "#run periodogram on the data\n"
   ]
  },
  {
   "cell_type": "markdown",
   "metadata": {
    "colab_type": "text",
    "id": "RFp0ZUKtQNA7"
   },
   "source": [
    "Conclusion about the data, little report on findings (max 250 words):"
   ]
  }
 ],
 "metadata": {
  "colab": {
   "name": "Assignment 1: Extracting the dominant periods of a time-series.ipynb",
   "provenance": [],
   "toc_visible": true,
   "version": "0.3.2"
  },
  "kernelspec": {
   "display_name": "Python 3",
   "language": "python",
   "name": "python3"
  },
  "language_info": {
   "codemirror_mode": {
    "name": "ipython",
    "version": 3
   },
   "file_extension": ".py",
   "mimetype": "text/x-python",
   "name": "python",
   "nbconvert_exporter": "python",
   "pygments_lexer": "ipython3",
   "version": "3.6.0"
  }
 },
 "nbformat": 4,
 "nbformat_minor": 0
}
