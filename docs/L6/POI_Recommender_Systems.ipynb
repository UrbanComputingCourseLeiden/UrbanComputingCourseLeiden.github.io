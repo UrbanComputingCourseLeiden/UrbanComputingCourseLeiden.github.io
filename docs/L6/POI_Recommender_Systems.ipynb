{
  "nbformat": 4,
  "nbformat_minor": 0,
  "metadata": {
    "colab": {
      "name": "POI Recommender Systems.ipynb",
      "version": "0.3.2",
      "provenance": [],
      "collapsed_sections": []
    },
    "kernelspec": {
      "name": "python3",
      "display_name": "Python 3"
    }
  },
  "cells": [
    {
      "metadata": {
        "id": "CxA59YkI1Y7Y",
        "colab_type": "text"
      },
      "cell_type": "markdown",
      "source": [
        "# Lab2- Point-of-Interest Recommendation Systems\n",
        "## Urban Computing course - Leiden University\n",
        "#### Instructor: Dr. Mitra Baratchi\n",
        "#### Contributor: Hossein A. Rahmani\n",
        "\n",
        "\n",
        "\n"
      ]
    },
    {
      "metadata": {
        "id": "i0VWXtk2kFXw",
        "colab_type": "text"
      },
      "cell_type": "markdown",
      "source": [
        "## Outline\n",
        "\n",
        "1.   Recommender systems and Context information\n",
        "2.   General Structure of Location-Based Social Network's Dataset\n",
        "3.   Loading the dataset (Foursquare)\n",
        "4.   Data Pre-processing\n",
        "5.   Matrix Factorization\n",
        "6.   Model Evaluation\n",
        "7.   Utilizing Contextual Information: Geographical Model"
      ]
    },
    {
      "metadata": {
        "id": "YjNJ7x2IGqma",
        "colab_type": "text"
      },
      "cell_type": "markdown",
      "source": [
        "## Recommender Systems"
      ]
    },
    {
      "metadata": {
        "id": "Lsl9EwelGuVm",
        "colab_type": "text"
      },
      "cell_type": "markdown",
      "source": [
        "A recommender system is a simple algorithm with the aim to provide the most relevant recommendation to a user by discovering patterns in a dataset. Actually, recommender systems are a subclass of **information filtering system** addressing the problem of infromation overload. An example of a recommendation system in action is when you visit Amazon website and you notice that some items are being recommended to you or when Netflix recommends certain movies to you. One of the most important application of recommender systems is in Location-Based Social Networks (LBSNs) to recommend unvisited location to the users."
      ]
    },
    {
      "metadata": {
        "id": "W34USwn7LIP5",
        "colab_type": "text"
      },
      "cell_type": "markdown",
      "source": [
        "### Recommender system approaches"
      ]
    },
    {
      "metadata": {
        "id": "2_0yBRgyLL9L",
        "colab_type": "text"
      },
      "cell_type": "markdown",
      "source": [
        "Recommender System approaches are generaly divided into three categories:\n",
        "\n",
        "- **Collaborative Filtering (CF)**: CF is a method of recommending items to users using their past behaviors or ratings as well as similar decisions by other users to predict which items might be appealing to the original customers. The CF method divides into two subcategories, Memory-based and Model-based. In memory-based we use the whole of the user-item matrix to make the recommendation but in model-based we make use of machine learning approaches that are scalable and more efficient.\n",
        "\n",
        "- **Content Based (CB)**: CB suggests items to users by using the characteristics of an item in order to recommend additional items with similar properties.\n",
        "\n",
        "- **Hybrid Method**: A number of applications combine the CF and the CB algorithms. These overcome the limitations of native CF and CB approaches and improve prediction performance. Importantly, they overcome the CF problems such as sparsity and loss of information. \n",
        "\n",
        "Collaborative filtering is also much more popular for web-based recommendations where the data is sparse, i.e., where there is a limited number of reviews by each user or for a particular item.\n",
        "\n",
        "More information for study and comparsion can be find in the [Basics of Recommender Systems: Study of Location-Based Social Networks](https://github.com/rahmanidashti/LRSbasics)."
      ]
    },
    {
      "metadata": {
        "id": "iFi85yAWJMIb",
        "colab_type": "text"
      },
      "cell_type": "markdown",
      "source": [
        "### Context-Aware Recommender Systems"
      ]
    },
    {
      "metadata": {
        "id": "SckvfegaJRfs",
        "colab_type": "text"
      },
      "cell_type": "markdown",
      "source": [
        "In many applications, such as recommending a vacation package, personalized content on a Web site, or a movie, it may not be sufficient to consider only users and items – it is also important to incorporate the **contextual information** into the recommendation process in order to recommend items to users in certain circumstances. For example, using the temporal context, a travel recommender system would provide a vacation recommendation in the winter that can be very different from the one in summer. Similarly, in the case of personalized content delivery on a Web site, it is important to determine what content needs to be delivered (recommended) to a customer and when. More specifically, on weekdays a user might prefer to read world news when she logs on in the morning and the stock market report in the evening, and on weekends to read movie reviews and do shopping. In addition, Geographical influence is an important contextual factor that distinguishes the location recommendation from traditional item recommendation, because the check-in behavior depends on locations’ geographical features. The users' behavior on location-based social networks shows they would like to visit nearby locations rather than the distant ones."
      ]
    },
    {
      "metadata": {
        "id": "kE-1Rm4mcfHs",
        "colab_type": "text"
      },
      "cell_type": "markdown",
      "source": [
        "## LBSN's Dataset"
      ]
    },
    {
      "metadata": {
        "id": "YR1vnRWCbX9X",
        "colab_type": "text"
      },
      "cell_type": "markdown",
      "source": [
        "The dataset of a LBSN generates by a popular feature that called __Check-in__. When a user check in a location, it shows the user's presence in that location. Generally, a check-in information include:\n",
        "\n",
        "*   User\n",
        "*   Location\n",
        "*   Latitude and longitude of location\n",
        "*   Check-in time\n",
        "\n",
        "For example, a record of check-in is something like: **user_0, location_0, 1.372494548, 103.893714, 28-01-2019 14:17:15**\n",
        "\n"
      ]
    },
    {
      "metadata": {
        "id": "bB2JY4SpbPYq",
        "colab_type": "text"
      },
      "cell_type": "markdown",
      "source": [
        "## Import the required module"
      ]
    },
    {
      "metadata": {
        "id": "FM1lNoUdjIzo",
        "colab_type": "code",
        "colab": {}
      },
      "cell_type": "code",
      "source": [
        "import pandas as pd\n",
        "import numpy as np\n",
        "from numpy.linalg import norm\n",
        "import scipy.sparse as sparse\n",
        "from collections import defaultdict\n",
        "import time\n",
        "import math\n",
        "import matplotlib.pyplot as plt\n",
        "from scipy.stats import multivariate_normal\n",
        "import folium"
      ],
      "execution_count": 0,
      "outputs": []
    },
    {
      "metadata": {
        "id": "11ln990OclFB",
        "colab_type": "text"
      },
      "cell_type": "markdown",
      "source": [
        "## Load the dataset\n",
        "To access the dataset, we upload the preprocessed dataset of Gowalla LBSN into a Github repository. Here, we have four files that needed for this assignment: **size, train, test, and geo**. The _size_ file includes the number of users and location (or POIs), _train and test_ files stores the user's check-ins and the _geo_ file includes the geograpical information of each location. As we mention above, we load the dataset from github. This is a small version of Gowalla dataset, you can find the other ones and large-scale dataset (you can find them here: https://github.com/rahmanidashti/LBSNDatasets/) to evaluate the methods."
      ]
    },
    {
      "metadata": {
        "id": "H7JHBpCu1pqT",
        "colab_type": "code",
        "colab": {}
      },
      "cell_type": "code",
      "source": [
        "size = \"https://raw.githubusercontent.com/rahmanidashti/LBSNDatasets/master/Gowalla/Gowalla_2/Gowalla_data_size.txt\"\n",
        "train = \"https://raw.githubusercontent.com/rahmanidashti/LBSNDatasets/master/Gowalla/Gowalla_2/Gowalla_train.txt\"\n",
        "test = \"https://raw.githubusercontent.com/rahmanidashti/LBSNDatasets/master/Gowalla/Gowalla_2/Gowalla_test.txt\"\n",
        "geo = \"https://raw.githubusercontent.com/rahmanidashti/LBSNDatasets/master/Gowalla/Gowalla_2/Gowalla_poi_coos.txt\""
      ],
      "execution_count": 0,
      "outputs": []
    },
    {
      "metadata": {
        "id": "U9zzCJTAM8Pu",
        "colab_type": "code",
        "colab": {}
      },
      "cell_type": "code",
      "source": [
        "size_header = ['users', 'locations']\n",
        "size_data = pd.read_csv(size, sep='\t', names=size_header)\n",
        "for index, eachline in size_data.iterrows():\n",
        "  n_users, n_locations = eachline['users'], eachline['locations']\n",
        "print(\"The numebr of users is\", n_users,\"and the number of locations is\", n_locations)\n",
        "\n",
        "header = ['uid', 'lid', 'freq']\n",
        "train_data = pd.read_csv(train, sep='\t', names=header)\n",
        "test_data = pd.read_csv(test, sep='\t', names=header)\n",
        "\n",
        "geo_header = ['lid', 'lat', 'lng']\n",
        "poi_data = pd.read_csv(geo, sep='\t', names=geo_header)"
      ],
      "execution_count": 0,
      "outputs": []
    },
    {
      "metadata": {
        "id": "rwnLMUcudlsJ",
        "colab_type": "text"
      },
      "cell_type": "markdown",
      "source": [
        "### Load the training data"
      ]
    },
    {
      "metadata": {
        "id": "Ew2y3joTkyNf",
        "colab_type": "code",
        "colab": {}
      },
      "cell_type": "code",
      "source": [
        "def read_training_data():\n",
        "  training_matrix = np.zeros((n_users, n_locations))\n",
        "  sparse_training_matrix = sparse.dok_matrix((n_users, n_locations))\n",
        "  for index, row in train_data.iterrows():\n",
        "    uid, lid, freq = row['uid'], row['lid'], row['freq']\n",
        "    uid, lid, freq = int(uid), int(lid), int(freq)\n",
        "    training_matrix[uid, lid] = 1.0\n",
        "    sparse_training_matrix[uid, lid] = freq\n",
        "  return sparse_training_matrix, training_matrix"
      ],
      "execution_count": 0,
      "outputs": []
    },
    {
      "metadata": {
        "id": "ubiIO-5keMNh",
        "colab_type": "text"
      },
      "cell_type": "markdown",
      "source": [
        "### Load the latitude and longitude of POIs"
      ]
    },
    {
      "metadata": {
        "id": "E0TcJzxUu9hQ",
        "colab_type": "code",
        "colab": {}
      },
      "cell_type": "code",
      "source": [
        "def read_poi_coos():\n",
        "  poi_coos = {}\n",
        "  for index, row in poi_data.iterrows():\n",
        "    lid, lat, lng = row['lid'], row['lat'], row['lng']\n",
        "    lid, lat, lng = int(lid), float(lat), float(lng)\n",
        "    poi_coos[lid] = (lat, lng)\n",
        "  return poi_coos"
      ],
      "execution_count": 0,
      "outputs": []
    },
    {
      "metadata": {
        "id": "sojWEvNpefa9",
        "colab_type": "text"
      },
      "cell_type": "markdown",
      "source": [
        "### Load the test data"
      ]
    },
    {
      "metadata": {
        "id": "OMM-Z88f4hd8",
        "colab_type": "text"
      },
      "cell_type": "markdown",
      "source": [
        "A part of dataset should be considered as test datat to evalute the model performance. Here, we cosider the 20% recently check-ins as test set."
      ]
    },
    {
      "metadata": {
        "id": "dUj12Sn4vJF5",
        "colab_type": "code",
        "colab": {}
      },
      "cell_type": "code",
      "source": [
        "def read_ground_truth():\n",
        "  ground_truth = defaultdict(set)\n",
        "  for index, row in test_data.iterrows():\n",
        "    uid, lid, _ = row['uid'], row['lid'], row['freq']\n",
        "    uid, lid = int(uid), int(lid)\n",
        "    ground_truth[uid].add(lid)\n",
        "  return ground_truth"
      ],
      "execution_count": 0,
      "outputs": []
    },
    {
      "metadata": {
        "id": "6DOPcN2d9fsW",
        "colab_type": "text"
      },
      "cell_type": "markdown",
      "source": [
        "### Intialize the datasets"
      ]
    },
    {
      "metadata": {
        "id": "GvoTaxNw9lw-",
        "colab_type": "code",
        "colab": {}
      },
      "cell_type": "code",
      "source": [
        "sparse_training_matrix, training_matrix = read_training_data()\n",
        "ground_truth = read_ground_truth()\n",
        "poi_coos = read_poi_coos()"
      ],
      "execution_count": 0,
      "outputs": []
    },
    {
      "metadata": {
        "id": "BZRi3l9UCpKp",
        "colab_type": "text"
      },
      "cell_type": "markdown",
      "source": [
        "## Collaborative Filtering\n",
        "As we talk earlier, one of the most popular approaches in recommender systems is __Collaborative Filtering (CF)__. At the first, the main approach of CF was __user-based CF__ but after 2009 with the challenge of Netflix the __Matrix Factorization (MF)__ has been one of the most used __Model-based CF__ approaches. The user-based approach is good when the data is small but when you need scalability you should choose MF or the other model-based approaches. Hence, we first consider and implement the user-based CF to recommend the locations then we implement one of the MF-based approaches. Finally, we show the impact of context in RS and integrate one of the most important contextual factors in location recommendation to the MF model."
      ]
    },
    {
      "metadata": {
        "id": "ySj5_KG3erQ6",
        "colab_type": "text"
      },
      "cell_type": "markdown",
      "source": [
        "### User-Based Collaborative Filtering [1]\n",
        " A user-based system can also use machine-learning algorithms to group all users who have shown that they have the same tastes. The system builds neighborhoods of users who have similar profiles, purchase patterns, or rating patterns. If a person in a neighborhood buys and likes an item, the recommender system can recommend that item to everyone else in the neighborhood. Here, we used __cosine-based similarity__. The cosine-based approach defines the cosine-similarity between two users $x$ and $y$ as:\n",
        " \n",
        " $\\operatorname {sim} (x,y)=\\cos({\\vec {x}},{\\vec {y}})={\\frac {{\\vec {x}}\\cdot {\\vec {y}}}{||{\\vec {x}}||\\times ||{\\vec {y}}||}}={\\frac {\\sum \\limits _{i\\in I_{xy}}r_{x,i}r_{y,i}}{{\\sqrt {\\sum \\limits _{i\\in I_{x}}r_{x,i}^{2}}}{\\sqrt {\\sum \\limits _{i\\in I_{y}}r_{y,i}^{2}}}}}$"
      ]
    },
    {
      "metadata": {
        "id": "VMg-KFROzxOL",
        "colab_type": "code",
        "colab": {}
      },
      "cell_type": "code",
      "source": [
        "class UserBasedCF(object):\n",
        "  def __init__(self):\n",
        "    self.rec_score = None\n",
        "    self.epsilon = 1e-9\n",
        "    \n",
        "  def pre_compute_rec_scores(self, C):\n",
        "    ctime = time.time()\n",
        "    print(\"Training User-based Collaborative Filtering...\", )\n",
        "\n",
        "    sim = C.dot(C.T)\n",
        "    norms = [norm(C[i]) for i in range(C.shape[0])]\n",
        "\n",
        "    for i in range(C.shape[0]):\n",
        "      sim[i][i] = 0.0\n",
        "      for j in range(i+1, C.shape[0]):\n",
        "        sim[i][j] = sim[i][j] / ((norms[i] * norms[j]) + self.epsilon)\n",
        "        sim[j][i] = sim[i][j] / ((norms[i] * norms[j]) + self.epsilon)\n",
        "\n",
        "    self.rec_score = sim.dot(C)\n",
        "    print(\"Done. Elapsed time:\", time.time() - ctime, \"s\")\n",
        "\n",
        "  def predict(self, i, j):\n",
        "    return self.rec_score[i][j]\n"
      ],
      "execution_count": 0,
      "outputs": []
    },
    {
      "metadata": {
        "id": "4v6fASRICSsu",
        "colab_type": "text"
      },
      "cell_type": "markdown",
      "source": [
        "## Evaluation process of recommendation (Precision and Recall)\n",
        "\n",
        "In pattern recognition, information retrieval and binary classification, precision (also called positive predictive value) is the fraction of relevant instances among the retrieved instances, while recall (also known as sensitivity) is the fraction of relevant instances that have been retrieved over the total amount of relevant instances. Both precision and recall are therefore based on an understanding and measure of relevance. You can read more on [Wikipedia](https://en.wikipedia.org/wiki/Precision_and_recall)."
      ]
    },
    {
      "metadata": {
        "id": "bbaKaLlcCXOT",
        "colab_type": "code",
        "colab": {}
      },
      "cell_type": "code",
      "source": [
        "def precisionk(actual, predicted):\n",
        "  return 1.0 * len(set(actual) & set(predicted)) / len(predicted)"
      ],
      "execution_count": 0,
      "outputs": []
    },
    {
      "metadata": {
        "id": "fhjGJcSoCW36",
        "colab_type": "code",
        "colab": {}
      },
      "cell_type": "code",
      "source": [
        "def recallk(actual, predicted):\n",
        "  return 1.0 * len(set(actual) & set(predicted)) / len(actual)"
      ],
      "execution_count": 0,
      "outputs": []
    },
    {
      "metadata": {
        "id": "SSbZL4luE7uR",
        "colab_type": "text"
      },
      "cell_type": "markdown",
      "source": [
        "## Store the evaluation values\n",
        "\n",
        "to store each method result based on each users we have define some global variables (as [list](https://docs.python.org/3/tutorial/datastructures.html#more-on-lists)) to store each user's precision and recall."
      ]
    },
    {
      "metadata": {
        "id": "PEXXk7SvE6po",
        "colab_type": "code",
        "colab": {}
      },
      "cell_type": "code",
      "source": [
        "# precison and recall by user-based CF for each user\n",
        "precision_UB, recall_UB = [], []\n",
        "# precison and recall by Poisson Matrix Factorization Matrix Factorization for each user\n",
        "precision_MF, recall_MF = [], []\n",
        "# precison and recall by MF + Geographical Influence for each user\n",
        "precision_MFG, recall_MFG = [], []"
      ],
      "execution_count": 0,
      "outputs": []
    },
    {
      "metadata": {
        "id": "C_rhwB3TevOQ",
        "colab_type": "text"
      },
      "cell_type": "markdown",
      "source": [
        "### Recommendation by User-based Collaborative Filtering"
      ]
    },
    {
      "metadata": {
        "id": "n4kTkeEuvWyG",
        "colab_type": "code",
        "colab": {}
      },
      "cell_type": "code",
      "source": [
        "def ub_runer():\n",
        "  top_k = 100\n",
        "  \n",
        "  # remove the last values from pre and rec\n",
        "  del precision_UB[:]\n",
        "  del recall_UB[:]\n",
        "  \n",
        "  U = UserBasedCF()\n",
        "  \n",
        "  # Compute the user-based CF\n",
        "  U.pre_compute_rec_scores(training_matrix)\n",
        "  \n",
        "  all_uids = list(range(n_users))\n",
        "  all_lids = list(range(n_locations))\n",
        "  np.random.shuffle(all_uids)\n",
        "  \n",
        "  # calculate the prediction value for each user on different items\n",
        "  for cnt, uid in enumerate(all_uids):   \n",
        "    if uid in ground_truth:\n",
        "      U_scores = [U.predict(uid, lid)\n",
        "                  if training_matrix[uid, lid] == 0 else -1\n",
        "                  for lid in all_lids]\n",
        "      \n",
        "      U_scores = np.array(U_scores)\n",
        "      \n",
        "      # sort the items based on their prediction value\n",
        "      predicted = list(reversed(U_scores.argsort()))[:top_k]\n",
        "      actual = ground_truth[uid]\n",
        "      \n",
        "      # compute each user's precision and recall\n",
        "      precision_UB.append(precisionk(actual, predicted[:10]))     \n",
        "      recall_UB.append(recallk(actual, predicted[:10]))\n",
        "      \n",
        "  print(\"pre@10:\", np.mean(precision_UB), \"rec@10:\", np.mean(recall_UB))    "
      ],
      "execution_count": 0,
      "outputs": []
    },
    {
      "metadata": {
        "id": "YbzOmVD2N6Gj",
        "colab_type": "code",
        "outputId": "344066ff-1ac9-45b0-9b19-145a2cf05677",
        "colab": {
          "base_uri": "https://localhost:8080/",
          "height": 68
        }
      },
      "cell_type": "code",
      "source": [
        "# Now, you can run the user-based CF\n",
        "ub_runer()"
      ],
      "execution_count": 0,
      "outputs": [
        {
          "output_type": "stream",
          "text": [
            "Training User-based Collaborative Filtering...\n",
            "Done. Elapsed time: 0.03346562385559082 s\n",
            "pre@10: 0.04499999999999999 rec@10: 0.029128869480040422\n"
          ],
          "name": "stdout"
        }
      ]
    },
    {
      "metadata": {
        "id": "o_UKAy0Q9zJG",
        "colab_type": "text"
      },
      "cell_type": "markdown",
      "source": [
        "## Matrix Factorization\n",
        "One technique thats commonly used for this problem is to project the matrix of user-location-visits in to a low rank approximation, and then compute distances in that space. The idea is to take the original visit count matrix, and then reduce that down to two much smaller matrices that approximate the original when multiplied together. You can find more about MF in [quuxlbs blog post](http://www.quuxlabs.com/blog/2010/09/matrix-factorization-a-simple-tutorial-and-implementation-in-python/). Here, based on [2], we use a version of matrix factorization that called __Poisson Factor Model__, which defines a Poisson distribution on the frequency. "
      ]
    },
    {
      "metadata": {
        "id": "TTfDm-NLFwiG",
        "colab_type": "text"
      },
      "cell_type": "markdown",
      "source": [
        "### Matrix Factorization: Poisson Factor Model [2]"
      ]
    },
    {
      "metadata": {
        "id": "h9NEiQBCFw-6",
        "colab_type": "code",
        "colab": {}
      },
      "cell_type": "code",
      "source": [
        "class PoissonFactorModel(object):\n",
        "  def __init__(self, K=30, alpha=20.0, beta=0.2):\n",
        "    self.K = K\n",
        "    self.alpha = alpha\n",
        "    self.beta = beta\n",
        "    self.U, self.L = None, None\n",
        "\n",
        "  def train(self, sparse_check_in_matrix, max_iters=50, learning_rate=1e-4):\n",
        "    ctime = time.time()\n",
        "    print(\"Training PFM...\", )\n",
        "\n",
        "    alpha = self.alpha\n",
        "    beta = self.beta\n",
        "    K = self.K\n",
        "\n",
        "    F = sparse_check_in_matrix\n",
        "    M, N = sparse_check_in_matrix.shape\n",
        "    U = 0.5 * np.sqrt(np.random.gamma(alpha, beta, (M, K))) / K\n",
        "    L = 0.5 * np.sqrt(np.random.gamma(alpha, beta, (N, K))) / K\n",
        "\n",
        "    F = F.tocoo()\n",
        "    entry_index = list(zip(F.row, F.col))\n",
        "\n",
        "    F = F.tocsr()\n",
        "    F_dok = F.todok()\n",
        "\n",
        "    tau = 10\n",
        "    last_loss = float('Inf')\n",
        "    for iters in range(max_iters):\n",
        "      F_Y = F_dok.copy()\n",
        "      for i, j in entry_index:\n",
        "        F_Y[i, j] = 1.0 * F_dok[i, j] / U[i].dot(L[j]) - 1\n",
        "      F_Y = F_Y.tocsr()\n",
        "\n",
        "      learning_rate_k = learning_rate * tau / (tau + iters)\n",
        "      U += learning_rate_k * (F_Y.dot(L) + (alpha - 1) / U - 1 / beta)\n",
        "      L += learning_rate_k * ((F_Y.T).dot(U) + (alpha - 1) / L - 1 / beta)\n",
        "\n",
        "      loss = 0.0\n",
        "      for i, j in entry_index:\n",
        "        loss += (F_dok[i, j] - U[i].dot(L[j]))**2\n",
        "\n",
        "      print('Iteration:', iters,  'loss:', loss)\n",
        "\n",
        "      if loss > last_loss:\n",
        "        print(\"Early termination.\")\n",
        "        break\n",
        "        last_loss = loss\n",
        "\n",
        "      print(\"Done. Elapsed time:\", time.time() - ctime, \"s\")\n",
        "      self.U, self.L = U, L\n",
        "\n",
        "  def predict(self, uid, lid, sigmoid=False):\n",
        "    if sigmoid:\n",
        "      return 1.0 / (1 + math.exp(-self.U[uid].dot(self.L[lid])))\n",
        "    return self.U[uid].dot(self.L[lid])"
      ],
      "execution_count": 0,
      "outputs": []
    },
    {
      "metadata": {
        "id": "D4jOnzqBYJ2Z",
        "colab_type": "text"
      },
      "cell_type": "markdown",
      "source": [
        "### Recommendation by the Matrix Factoriztion"
      ]
    },
    {
      "metadata": {
        "id": "UeV5UG_5YOx9",
        "colab_type": "code",
        "colab": {}
      },
      "cell_type": "code",
      "source": [
        "def mf_runer():\n",
        "  \n",
        "  top_k = 100\n",
        "  \n",
        "  del precision_MF[:]\n",
        "  del recall_MF[:]\n",
        "  \n",
        "  \n",
        "  PFM = PoissonFactorModel(K=30, alpha=20.0, beta=0.2)\n",
        "  PFM.train(sparse_training_matrix, max_iters=10, learning_rate=1e-4)\n",
        "  \n",
        "  all_uids = list(range(n_users))\n",
        "  all_lids = list(range(n_locations))\n",
        "  np.random.shuffle(all_uids)\n",
        "    \n",
        "  for cnt, uid in enumerate(all_uids):\n",
        "    if (int(cnt) != 0 and int(cnt) % 100 == 0):\n",
        "      print(\"Passed\", int(cnt), \"/\", n_users, \"by Precision@10 and Recall@10: \",  np.mean(precision_MF), \"and\", np.mean(recall_MF))\n",
        "    if uid in ground_truth:\n",
        "      overall_scores = [PFM.predict(uid, lid)\n",
        "                        if training_matrix[uid, lid] == 0 else -1\n",
        "                        for lid in all_lids]     \n",
        "      \n",
        "      overall_scores = np.array(overall_scores)\n",
        "\n",
        "      predicted = list(reversed(overall_scores.argsort()))[:top_k]\n",
        "      actual = ground_truth[uid]\n",
        "      \n",
        "      precision_MF.append(precisionk(actual, predicted[:10]))\n",
        "      recall_MF.append(recallk(actual, predicted[:10]))\n",
        "      \n",
        "  print(\">> Finally Precision@10:\", np.mean(precision_MF), \"Recall@10:\", np.mean(recall_MF))"
      ],
      "execution_count": 0,
      "outputs": []
    },
    {
      "metadata": {
        "id": "RvjR4qnjYvs8",
        "colab_type": "code",
        "outputId": "4c889888-6c98-45b5-ea0b-98c27f133c88",
        "colab": {
          "base_uri": "https://localhost:8080/",
          "height": 391
        }
      },
      "cell_type": "code",
      "source": [
        "mf_runer()"
      ],
      "execution_count": 0,
      "outputs": [
        {
          "output_type": "stream",
          "text": [
            "Training PFM...\n",
            "Iteration: 0 loss: 153799.45175969432\n",
            "Done. Elapsed time: 0.6696276664733887 s\n",
            "Iteration: 1 loss: 150385.9171274143\n",
            "Done. Elapsed time: 1.2190895080566406 s\n",
            "Iteration: 2 loss: 147671.79094306694\n",
            "Done. Elapsed time: 1.7524895668029785 s\n",
            "Iteration: 3 loss: 145448.7344969039\n",
            "Done. Elapsed time: 2.385960340499878 s\n",
            "Iteration: 4 loss: 143597.69815591417\n",
            "Done. Elapsed time: 2.988093614578247 s\n",
            "Iteration: 5 loss: 142039.24676720003\n",
            "Done. Elapsed time: 3.6430504322052 s\n",
            "Iteration: 6 loss: 140716.44911524843\n",
            "Done. Elapsed time: 4.21532940864563 s\n",
            "Iteration: 7 loss: 139586.75709665637\n",
            "Done. Elapsed time: 4.8342108726501465 s\n",
            "Iteration: 8 loss: 138617.4564168024\n",
            "Done. Elapsed time: 5.395563125610352 s\n",
            "Iteration: 9 loss: 137782.85700407912\n",
            "Done. Elapsed time: 6.022050142288208 s\n",
            ">> Finally Precision@10: 0.026000000000000002 Recall@10: 0.017281262241184488\n"
          ],
          "name": "stdout"
        }
      ]
    },
    {
      "metadata": {
        "id": "PPm-YQPAY2Ep",
        "colab_type": "text"
      },
      "cell_type": "markdown",
      "source": [
        "## Context Information"
      ]
    },
    {
      "metadata": {
        "id": "Wf2A4gT99h4Q",
        "colab_type": "text"
      },
      "cell_type": "markdown",
      "source": [
        "One of the most important context information is Geographical information that shows the users' check-ins behavior. Geographical (or _spatial_) information allows us to focus recommendations on locations close to the user, keeping our recommendations relevant as a user travels. Users tend to check in around several centers, where the check-in locations follow a Gaussian distribution at each center as shown in the following for a typical user’s check-in behavior."
      ]
    },
    {
      "metadata": {
        "id": "excCJaGeo9hB",
        "colab_type": "code",
        "outputId": "e14029c7-9b94-4766-af84-dd421d3da82f",
        "colab": {
          "base_uri": "https://localhost:8080/",
          "height": 740
        }
      },
      "cell_type": "code",
      "source": [
        "# which user's check-ins distribution want to show?\n",
        "which_user = 0\n",
        "\n",
        "locationlist = []\n",
        "# get the locations that have been checked-in by which_user\n",
        "for user_checkins in range(training_matrix.shape[0]):\n",
        "  if user_checkins == which_user:\n",
        "    locations = training_matrix[user_checkins].nonzero()\n",
        "  break\n",
        "  \n",
        "for locs in locations:\n",
        "  for loc in locs:\n",
        "    lat, lng = poi_coos[loc]\n",
        "    # Make a list with the coordinates of each location\n",
        "    locationlist.append([lat, lng])\n",
        "\n",
        "# Open a map and initialize it with the coordinates\n",
        "map = folium.Map(location=locationlist[0], zoom_start=5)\n",
        "# add to the map all different locations\n",
        "for point in range(0, len(locationlist)):\n",
        "    folium.Marker(locationlist[point]).add_to(map)\n",
        "map"
      ],
      "execution_count": 0,
      "outputs": [
        {
          "output_type": "execute_result",
          "data": {
            "text/html": [
              "<div style=\"width:100%;\"><div style=\"position:relative;width:100%;height:0;padding-bottom:60%;\"><iframe src=\"data:text/html;base64,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\" style=\"position:absolute;width:100%;height:100%;left:0;top:0;\"></iframe></div></div>"
            ],
            "text/plain": [
              "<folium.folium.Map at 0x7f38cd136978>"
            ]
          },
          "metadata": {
            "tags": []
          },
          "execution_count": 17
        }
      ]
    },
    {
      "metadata": {
        "id": "iarhCXloPGqQ",
        "colab_type": "text"
      },
      "cell_type": "markdown",
      "source": [
        "### Geographical Information: Multi-center Gaussian Model"
      ]
    },
    {
      "metadata": {
        "id": "ttZljKD5_C_A",
        "colab_type": "text"
      },
      "cell_type": "markdown",
      "source": [
        "Here, we consider the geographical influence based on the above idea. Then, we fused the geographical influence into our MF method to show the impact of contextual information."
      ]
    },
    {
      "metadata": {
        "id": "cM_EmZK2YKZ4",
        "colab_type": "text"
      },
      "cell_type": "markdown",
      "source": [
        "#### Find the distance between to locations"
      ]
    },
    {
      "metadata": {
        "id": "YZfRRK_JYIH8",
        "colab_type": "code",
        "colab": {}
      },
      "cell_type": "code",
      "source": [
        "def dist(loc1, loc2):\n",
        "    lat1, long1 = loc1.lat, loc1.lng\n",
        "    lat2, long2 = loc2.lat, loc2.lng\n",
        "    if abs(lat1 - lat2) < 1e-6 and abs(long1 - long2) < 1e-6:\n",
        "        return 0.0\n",
        "    degrees_to_radians = math.pi/180.0\n",
        "    phi1 = (90.0 - lat1)*degrees_to_radians\n",
        "    phi2 = (90.0 - lat2)*degrees_to_radians\n",
        "    theta1 = long1*degrees_to_radians\n",
        "    theta2 = long2*degrees_to_radians\n",
        "    cos = (math.sin(phi1)*math.sin(phi2)*math.cos(theta1 - theta2) +\n",
        "           math.cos(phi1)*math.cos(phi2))\n",
        "    arc = math.acos(cos)\n",
        "    earth_radius = 6371\n",
        "    return arc * earth_radius"
      ],
      "execution_count": 0,
      "outputs": []
    },
    {
      "metadata": {
        "id": "1JUtm3ohYQTI",
        "colab_type": "text"
      },
      "cell_type": "markdown",
      "source": [
        "#### The geographical approach"
      ]
    },
    {
      "metadata": {
        "id": "9BYmxP8yFYdh",
        "colab_type": "code",
        "colab": {}
      },
      "cell_type": "code",
      "source": [
        "class Location(object):\n",
        "    def __init__(self, id, lat, lng, freq, center=-1):\n",
        "        self.id = id\n",
        "        self.lat = lat\n",
        "        self.lng = lng\n",
        "        self.freq = freq\n",
        "        self.center = center\n",
        "\n",
        "\n",
        "class Center(object):\n",
        "    def __init__(self):\n",
        "        self.locations = []\n",
        "        self.total_freq = 0\n",
        "        self.distribution = None\n",
        "        self.mu = None\n",
        "        self.cov = None\n",
        "        self.lat = None\n",
        "        self.lng = None\n",
        "\n",
        "    def add(self, loc):\n",
        "        self.locations.append(loc)\n",
        "        self.total_freq += loc.freq\n",
        "\n",
        "    def build_gaussian(self):\n",
        "        coo_seq = []\n",
        "        for loc in self.locations:\n",
        "            for _ in range(int(loc.freq)):\n",
        "                coo_seq.append(np.array([loc.lat, loc.lng]))\n",
        "        coo_seq = np.array(coo_seq)\n",
        "        self.mu = np.mean(coo_seq, axis=0)\n",
        "        self.cov = np.cov(coo_seq.T)\n",
        "        self.distribution = multivariate_normal(self.mu, self.cov, allow_singular=True)\n",
        "        self.lat = self.mu[0]\n",
        "        self.lng = self.mu[1]\n",
        "\n",
        "    def pdf(self, x):\n",
        "        return self.distribution.pdf(np.array([x.lat, x.lng]))\n",
        "\n",
        "\n",
        "class MultiGaussianModel(object):\n",
        "    def __init__(self, alpha=0.2, theta=0.02, dmax=15):\n",
        "        self.alpha = alpha\n",
        "        self.theta = theta\n",
        "        self.dmax = dmax\n",
        "        self.poi_coos = None\n",
        "        self.center_list = None\n",
        "\n",
        "    def build_user_check_in_profile(self, sparse_check_in_matrix):\n",
        "        L = defaultdict(list)\n",
        "        for (uid, lid), freq in sparse_check_in_matrix.items():\n",
        "            lat, lng = self.poi_coos[lid]\n",
        "            L[uid].append(Location(lid, lat, lng, freq))\n",
        "        return L\n",
        "\n",
        "    def discover_user_centers(self, Lu):\n",
        "        center_min_freq = max(sum([loc.freq for loc in Lu]) * self.theta, 2)\n",
        "        Lu.sort(key=lambda k: k.freq, reverse=True)\n",
        "        center_list = []\n",
        "        center_num = 0\n",
        "        for i in range(len(Lu)):\n",
        "            if Lu[i].center == -1:\n",
        "                center_num += 1\n",
        "                center = Center()\n",
        "                center.add(Lu[i])\n",
        "                Lu[i].center = center_num\n",
        "                for j in range(i+1, len(Lu)):\n",
        "                    if Lu[j].center == -1 and dist(Lu[i], Lu[j]) <= self.dmax:\n",
        "                        Lu[j].center = center_num\n",
        "                        center.add(Lu[j])\n",
        "                if center.total_freq >= center_min_freq:\n",
        "                    center_list.append(center)\n",
        "        return center_list\n",
        "\n",
        "    def multi_center_discovering(self, sparse_check_in_matrix, poi_coos):\n",
        "        self.poi_coos = poi_coos\n",
        "        L = self.build_user_check_in_profile(sparse_check_in_matrix)\n",
        "\n",
        "        center_list = {}\n",
        "        for uid in range(len(L)):\n",
        "            center_list[uid] = self.discover_user_centers(L[uid])\n",
        "            for cid in range(len(center_list[uid])):\n",
        "                center_list[uid][cid].build_gaussian()\n",
        "        self.center_list = center_list\n",
        "\n",
        "    def predict(self, uid, lid):\n",
        "        lat, lng = self.poi_coos[lid]\n",
        "        l = Location(None, lat, lng, None)\n",
        "\n",
        "        prob = 0.0\n",
        "        if uid in self.center_list:\n",
        "            all_center_freq = sum([cid.total_freq**self.alpha for cid in self.center_list[uid]])\n",
        "            all_center_pdf = sum([cid.pdf(l) for cid in self.center_list[uid]])\n",
        "            if not all_center_pdf == 0:\n",
        "                for cu in self.center_list[uid]:\n",
        "                    prob += (\n",
        "                        1.0 / (dist(l, cu) + 1) *\n",
        "                        (cu.total_freq**self.alpha) / all_center_freq *\n",
        "                        cu.pdf(l) / all_center_pdf)\n",
        "        return prob"
      ],
      "execution_count": 0,
      "outputs": []
    },
    {
      "metadata": {
        "id": "IWf3nafNF2QV",
        "colab_type": "text"
      },
      "cell_type": "markdown",
      "source": [
        "### Run the Matrix Factorization with Multi-Center Geographical Model"
      ]
    },
    {
      "metadata": {
        "id": "6jEjVD33iXiw",
        "colab_type": "code",
        "colab": {}
      },
      "cell_type": "code",
      "source": [
        "def mfg_runer():\n",
        "  \n",
        "  top_k = 100\n",
        "  \n",
        "  del precision_MFG[:]\n",
        "  del recall_MFG[:]\n",
        "  \n",
        "  PFM = PoissonFactorModel(K=30, alpha=20.0, beta=0.2)\n",
        "  PFM.train(sparse_training_matrix, max_iters=10, learning_rate=1e-4)\n",
        "  \n",
        "  print(\"Starting Multi-Center Gaussian Model ...\")\n",
        "  MGM = MultiGaussianModel(alpha=0.2, theta=0.02, dmax=15)\n",
        "  MGM.multi_center_discovering(sparse_training_matrix, poi_coos)\n",
        "  print(\"Done Multi-Center Gaussian Model.\")\n",
        "  \n",
        "  all_uids = list(range(n_users))\n",
        "  all_lids = list(range(n_locations))\n",
        "  np.random.shuffle(all_uids)\n",
        "    \n",
        "  for cnt, uid in enumerate(all_uids):\n",
        "    if (int(cnt) != 0 and int(cnt) % 100 == 0):\n",
        "      print(\"Passed\", int(cnt), \"/\", n_users, \"by Precision@10 and Recall@10: \",  np.mean(precision_MFG), \"and\", np.mean(recall_MFG))\n",
        "    if uid in ground_truth:\n",
        "      overall_scores = [PFM.predict(uid, lid) * MGM.predict(uid, lid)\n",
        "                        if training_matrix[uid, lid] == 0 else -1\n",
        "                        for lid in all_lids]     \n",
        "      \n",
        "      overall_scores = np.array(overall_scores)\n",
        "\n",
        "      predicted = list(reversed(overall_scores.argsort()))[:top_k]\n",
        "      actual = ground_truth[uid]\n",
        "      \n",
        "      precision_MFG.append(precisionk(actual, predicted[:10]))\n",
        "      recall_MFG.append(recallk(actual, predicted[:10]))\n",
        "      \n",
        "  print(\">> Finally Precision@10:\", np.mean(precision_MFG), \"Recall@10:\", np.mean(recall_MFG))   "
      ],
      "execution_count": 0,
      "outputs": []
    },
    {
      "metadata": {
        "id": "1pQcyEwaifTa",
        "colab_type": "code",
        "outputId": "95073887-3aec-4409-d4f8-d83fc1380aad",
        "colab": {
          "base_uri": "https://localhost:8080/",
          "height": 425
        }
      },
      "cell_type": "code",
      "source": [
        "mfg_runer()"
      ],
      "execution_count": 0,
      "outputs": [
        {
          "output_type": "stream",
          "text": [
            "Training PFM...\n",
            "Iteration: 0 loss: 153757.60936673867\n",
            "Done. Elapsed time: 0.7166135311126709 s\n",
            "Iteration: 1 loss: 150348.21803663936\n",
            "Done. Elapsed time: 1.3320369720458984 s\n",
            "Iteration: 2 loss: 147637.98088891056\n",
            "Done. Elapsed time: 2.029306411743164 s\n",
            "Iteration: 3 loss: 145418.41552457062\n",
            "Done. Elapsed time: 2.591646432876587 s\n",
            "Iteration: 4 loss: 143570.49632184845\n",
            "Done. Elapsed time: 3.170954942703247 s\n",
            "Iteration: 5 loss: 142014.8337982975\n",
            "Done. Elapsed time: 3.765207052230835 s\n",
            "Iteration: 6 loss: 140694.54098974064\n",
            "Done. Elapsed time: 4.352580308914185 s\n",
            "Iteration: 7 loss: 139567.10833538143\n",
            "Done. Elapsed time: 4.9656853675842285 s\n",
            "Iteration: 8 loss: 138599.8541545378\n",
            "Done. Elapsed time: 5.638741970062256 s\n",
            "Iteration: 9 loss: 137767.11577779058\n",
            "Done. Elapsed time: 6.212277889251709 s\n",
            "Starting Multi-Center Gaussian Model ...\n",
            "Done Multi-Center Gaussian Model.\n",
            ">> Finally Precision@10: 0.041999999999999996 Recall@10: 0.02693957780546271\n"
          ],
          "name": "stdout"
        }
      ]
    },
    {
      "metadata": {
        "id": "Xh4GBlODFf0l",
        "colab_type": "text"
      },
      "cell_type": "markdown",
      "source": [
        "## Expriment Comparsion"
      ]
    },
    {
      "metadata": {
        "id": "SnTpHs2SCizH",
        "colab_type": "code",
        "outputId": "00749776-222d-4273-962d-c89d5017c391",
        "colab": {
          "base_uri": "https://localhost:8080/",
          "height": 401
        }
      },
      "cell_type": "code",
      "source": [
        "# data to plot\n",
        "n_groups = 3\n",
        "means_precision = (np.mean(precision_UB), np.mean(precision_MF), np.mean(precision_MFG))\n",
        "means_recall = (np.mean(recall_UB), np.mean(recall_MF), np.mean(recall_MFG))\n",
        "\n",
        " \n",
        "# create plot\n",
        "fig, ax = plt.subplots()\n",
        "index = np.arange(n_groups)\n",
        "bar_width = 0.25\n",
        "opacity = 0.8\n",
        " \n",
        "rects1 = plt.bar(index, means_precision, bar_width,\n",
        "alpha=opacity,\n",
        "label='Precision')\n",
        " \n",
        "rects2 = plt.bar(index + bar_width, means_recall, bar_width,\n",
        "alpha=opacity,\n",
        "label='Recall')\n",
        " \n",
        "plt.xlabel('Methods')\n",
        "plt.ylabel('Precision and Recall')\n",
        "plt.title('Results')\n",
        "plt.xticks(index + 0.1, ('UB', 'MF', 'MFG'))\n",
        "plt.legend()\n",
        " \n",
        "plt.tight_layout()\n",
        "plt.show()"
      ],
      "execution_count": 0,
      "outputs": [
        {
          "output_type": "display_data",
          "data": {
            "image/png": "[encoded data removed]",
            "text/plain": [
              "<Figure size 576x396 with 1 Axes>"
            ]
          },
          "metadata": {
            "tags": []
          }
        }
      ]
    },
    {
      "metadata": {
        "id": "Ft3GCk70A5Y5",
        "colab_type": "text"
      },
      "cell_type": "markdown",
      "source": [
        "### Significant results\n",
        "To show the result is significant (i.e. there is a significant difference between the means of two groups) you can use the _t-Test_. When you want to compare your result with the other methods results, you should run _t-Test_ to show if the result is significant or not. Actually, you must run _t-Test_ for each result based on each metric. You can find more details in the following link and see how to use _t-Test_ in python with Scipy: [t-Test in Scipy](https://docs.scipy.org/doc/scipy/reference/generated/scipy.stats.ttest_ind.html)"
      ]
    },
    {
      "metadata": {
        "id": "7XKM8x0e9vZW",
        "colab_type": "text"
      },
      "cell_type": "markdown",
      "source": [
        "### Conclusion\n",
        "As you can see in the plot, UB method outperforms the onther ones. The main reason is our datatset becasue _user-based_ use all of users and items information as it is a memory-based approach. Here, the dataset is very small, we just have 100 users. When, the users and items growth the MF approaches are better as they are scalable. Also, as MFG outperforms MF, you can see the impact of Context information to model the users' behavior."
      ]
    },
    {
      "metadata": {
        "id": "-evygSNlY2XX",
        "colab_type": "text"
      },
      "cell_type": "markdown",
      "source": [
        "## Acknowledge\n",
        "For implemenation we got some information and useful review of the codes that provided by the following paper:  \n",
        "__Liu, Yiding, et al. \"An experimental evaluation of point-of-interest recommendation in location-based social networks.\" in VLDB, 2017__"
      ]
    },
    {
      "metadata": {
        "id": "vJUOWKG0UdTI",
        "colab_type": "text"
      },
      "cell_type": "markdown",
      "source": [
        "## References\n",
        "\n",
        "[1] __Ye, Mao, et al. \"Exploiting geographical influence for collaborative point-of-interest recommendation\" in SIGIR, 2011.__  \n",
        "[2] __Cheng, Chen, et al. \"Fused matrix factorization with geographical and social influence in location-based social networks\", in AAAI, 2012.__"
      ]
    }
  ]
}