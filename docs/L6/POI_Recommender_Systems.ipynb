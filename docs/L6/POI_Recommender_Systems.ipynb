{
 "cells": [
  {
   "cell_type": "markdown",
   "metadata": {
    "colab_type": "text",
    "id": "CxA59YkI1Y7Y"
   },
   "source": [
    "# Lab2- Point-of-Interest Recommendation Systems\n",
    "## Urban Computing course - Leiden University\n",
    "#### Instructor: Dr. Mitra Baratchi\n",
    "#### Contributor: Hossein A. Rahmani\n",
    "\n",
    "\n",
    "\n"
   ]
  },
  {
   "cell_type": "markdown",
   "metadata": {
    "colab_type": "text",
    "id": "i0VWXtk2kFXw"
   },
   "source": [
    "## Outline\n",
    "\n",
    "1.   Recommender systems and Context information\n",
    "2.   General Structure of Location-Based Social Network's Dataset\n",
    "3.   Loading the dataset (Foursquare)\n",
    "4.   Data Pre-processing\n",
    "5.   Matrix Factorization\n",
    "6.   Model Evaluation\n",
    "7.   Utilizing Contextual Information: Geographical Model"
   ]
  },
  {
   "cell_type": "markdown",
   "metadata": {
    "colab_type": "text",
    "id": "YjNJ7x2IGqma"
   },
   "source": [
    "## Recommender Systems"
   ]
  },
  {
   "cell_type": "markdown",
   "metadata": {
    "colab_type": "text",
    "id": "Lsl9EwelGuVm"
   },
   "source": [
    "A recommender system is a simple algorithm with the aim to provide the most relevant recommendation to a user by discovering patterns in a dataset. Recommender systems are a subclass of **information filtering system** addressing the problem of infromation overload. One of the most important applications of recommender systems is in Location-Based Social Networks (LBSNs) to recommend unvisited location to the users."
   ]
  },
  {
   "cell_type": "markdown",
   "metadata": {
    "colab_type": "text",
    "id": "W34USwn7LIP5"
   },
   "source": [
    "### Recommender system approaches"
   ]
  },
  {
   "cell_type": "markdown",
   "metadata": {
    "colab_type": "text",
    "id": "2_0yBRgyLL9L"
   },
   "source": [
    "Recommender System approaches are generaly divided into three categories:\n",
    "\n",
    "- **Collaborative Filtering (CF)**: CF is a method of recommending items to users using their past behaviors or ratings as well as similar decisions by other users to predict which items might be appealing to the original customers. The CF method divides into two subcategories, Memory-based and Model-based. In memory-based we use the whole of the user-item matrix to make the recommendation but in model-based we make use of machine learning approaches that are scalable and more efficient.\n",
    "\n",
    "- **Content Based (CB)**: CB suggests items to users by using the characteristics of an item in order to recommend additional items with similar properties.\n",
    "\n",
    "- **Hybrid Method**: A number of applications combine the CF and the CB algorithms. These overcome the limitations of native CF and CB approaches and improve prediction performance. Importantly, they overcome the CF problems such as sparsity and loss of information. \n",
    "\n",
    "Collaborative filtering is also much more popular for web-based recommendations where the data is sparse, i.e., where there is a limited number of reviews by each user or for a particular item.\n",
    "\n",
    "More information for study and comparsion can be find in the [Basics of Recommender Systems: Study of Location-Based Social Networks](https://github.com/rahmanidashti/LRSbasics)."
   ]
  },
  {
   "cell_type": "markdown",
   "metadata": {
    "colab_type": "text",
    "id": "iFi85yAWJMIb"
   },
   "source": [
    "### Context-Aware Recommender Systems"
   ]
  },
  {
   "cell_type": "markdown",
   "metadata": {
    "colab_type": "text",
    "id": "SckvfegaJRfs"
   },
   "source": [
    "Considering contextual inforamtion into the recommendation process is an important requirement for many applications. For example, through considering the temporal context, a travel recommender system would provide a different vacation recommendation in the winter than what it would recommend in summer. Geographical influence is an important contextual factor that distinguishes the location recommendation from traditional item recommendation, because the check-in behavior depends on locations’ geographical features."
   ]
  },
  {
   "cell_type": "markdown",
   "metadata": {
    "colab_type": "text",
    "id": "kE-1Rm4mcfHs"
   },
   "source": [
    "## LBSN's Dataset"
   ]
  },
  {
   "cell_type": "markdown",
   "metadata": {
    "colab_type": "text",
    "id": "YR1vnRWCbX9X"
   },
   "source": [
    "The dataset of a LBSN is generated through providing a feature for collecting __Check-in__ records. When a user checks in a location, the presence of the user in that location is registered. Generally, a check-in record includes the following data:\n",
    "\n",
    "*   UserID\n",
    "*   LocationID\n",
    "*   Latitude and longitude of the location\n",
    "*   Check-in time\n",
    "\n",
    "For example, a check-in record is something that looks like: **user_0, location_0, 1.372494548, 103.893714, 28-01-2019 14:17:15**\n",
    "\n"
   ]
  },
  {
   "cell_type": "markdown",
   "metadata": {
    "colab_type": "text",
    "id": "bB2JY4SpbPYq"
   },
   "source": [
    "## Import the required module"
   ]
  },
  {
   "cell_type": "code",
   "execution_count": 28,
   "metadata": {
    "colab": {},
    "colab_type": "code",
    "id": "FM1lNoUdjIzo"
   },
   "outputs": [],
   "source": [
    "import pandas as pd\n",
    "import numpy as np\n",
    "from numpy.linalg import norm\n",
    "import scipy.sparse as sparse\n",
    "from collections import defaultdict\n",
    "import time\n",
    "import math\n",
    "import matplotlib.pyplot as plt\n",
    "from scipy.stats import multivariate_normal\n",
    "import folium"
   ]
  },
  {
   "cell_type": "markdown",
   "metadata": {
    "colab_type": "text",
    "id": "11ln990OclFB"
   },
   "source": [
    "## Load the dataset\n",
    "We have uploaded a preprocessed dataset of Gowalla LBSN into a Github repository. We have four files that are needed for this assignment: **size, train, test, and geo**. The _size_ file includes the number of users and locations (or POIs), _train and test_ files stores the user's check-ins and the _geo_ file includes the geograpical information of each location. As mentioned above, we load the dataset from github. The version used here is a small version of Gowalla dataset. You can find other verions in https://github.com/rahmanidashti/LBSNDatasets/ to evaluate the methods."
   ]
  },
  {
   "cell_type": "code",
   "execution_count": 29,
   "metadata": {
    "colab": {},
    "colab_type": "code",
    "id": "H7JHBpCu1pqT"
   },
   "outputs": [],
   "source": [
    "size = \"https://raw.githubusercontent.com/rahmanidashti/LBSNDatasets/master/Gowalla/Gowalla_2/Gowalla_data_size.txt\"\n",
    "train = \"https://raw.githubusercontent.com/rahmanidashti/LBSNDatasets/master/Gowalla/Gowalla_2/Gowalla_train.txt\"\n",
    "test = \"https://raw.githubusercontent.com/rahmanidashti/LBSNDatasets/master/Gowalla/Gowalla_2/Gowalla_test.txt\"\n",
    "geo = \"https://raw.githubusercontent.com/rahmanidashti/LBSNDatasets/master/Gowalla/Gowalla_2/Gowalla_poi_coos.txt\""
   ]
  },
  {
   "cell_type": "code",
   "execution_count": 30,
   "metadata": {
    "colab": {},
    "colab_type": "code",
    "id": "U9zzCJTAM8Pu"
   },
   "outputs": [
    {
     "name": "stdout",
     "output_type": "stream",
     "text": [
      "The numebr of users is 100 and the number of locations in this dataset is 6436\n"
     ]
    }
   ],
   "source": [
    "size_header = ['users', 'locations']\n",
    "size_data = pd.read_csv(size, sep='\t', names=size_header)\n",
    "for index, eachline in size_data.iterrows():\n",
    "  n_users, n_locations = eachline['users'], eachline['locations']\n",
    "print(\"The numebr of users is\", n_users,\"and the number of locations in this dataset is\", n_locations)\n",
    "\n",
    "header = ['uid', 'lid', 'freq']\n",
    "train_data = pd.read_csv(train, sep='\t', names=header)\n",
    "test_data = pd.read_csv(test, sep='\t', names=header)\n",
    "\n",
    "geo_header = ['lid', 'lat', 'lng']\n",
    "poi_data = pd.read_csv(geo, sep='\t', names=geo_header)"
   ]
  },
  {
   "cell_type": "markdown",
   "metadata": {
    "colab_type": "text",
    "id": "rwnLMUcudlsJ"
   },
   "source": [
    "### Load the training data"
   ]
  },
  {
   "cell_type": "code",
   "execution_count": 31,
   "metadata": {
    "colab": {},
    "colab_type": "code",
    "id": "Ew2y3joTkyNf"
   },
   "outputs": [],
   "source": [
    "def read_training_data():\n",
    "  training_matrix = np.zeros((n_users, n_locations))\n",
    "  sparse_training_matrix = sparse.dok_matrix((n_users, n_locations))\n",
    "  for index, row in train_data.iterrows():\n",
    "    uid, lid, freq = row['uid'], row['lid'], row['freq']\n",
    "    uid, lid, freq = int(uid), int(lid), int(freq)\n",
    "    training_matrix[uid, lid] = 1.0\n",
    "    sparse_training_matrix[uid, lid] = freq\n",
    "  return sparse_training_matrix, training_matrix"
   ]
  },
  {
   "cell_type": "markdown",
   "metadata": {
    "colab_type": "text",
    "id": "ubiIO-5keMNh"
   },
   "source": [
    "### Load the latitude and longitude of POIs"
   ]
  },
  {
   "cell_type": "code",
   "execution_count": 32,
   "metadata": {
    "colab": {},
    "colab_type": "code",
    "id": "E0TcJzxUu9hQ"
   },
   "outputs": [],
   "source": [
    "def read_poi_coos():\n",
    "  poi_coos = {}\n",
    "  for index, row in poi_data.iterrows():\n",
    "    lid, lat, lng = row['lid'], row['lat'], row['lng']\n",
    "    lid, lat, lng = int(lid), float(lat), float(lng)\n",
    "    poi_coos[lid] = (lat, lng)\n",
    "  return poi_coos"
   ]
  },
  {
   "cell_type": "markdown",
   "metadata": {
    "colab_type": "text",
    "id": "sojWEvNpefa9"
   },
   "source": [
    "### Load the test data"
   ]
  },
  {
   "cell_type": "markdown",
   "metadata": {
    "colab_type": "text",
    "id": "OMM-Z88f4hd8"
   },
   "source": [
    "A part of dataset should be reserved as test data to evalute the model performance. Here, we cosider 20% of the recent check-ins to compose a test set."
   ]
  },
  {
   "cell_type": "code",
   "execution_count": 33,
   "metadata": {
    "colab": {},
    "colab_type": "code",
    "id": "dUj12Sn4vJF5"
   },
   "outputs": [],
   "source": [
    "def read_ground_truth():\n",
    "  ground_truth = defaultdict(set)\n",
    "  for index, row in test_data.iterrows():\n",
    "    uid, lid, _ = row['uid'], row['lid'], row['freq']\n",
    "    uid, lid = int(uid), int(lid)\n",
    "    ground_truth[uid].add(lid)\n",
    "  return ground_truth"
   ]
  },
  {
   "cell_type": "markdown",
   "metadata": {
    "colab_type": "text",
    "id": "6DOPcN2d9fsW"
   },
   "source": [
    "### Intialize the datasets"
   ]
  },
  {
   "cell_type": "code",
   "execution_count": 34,
   "metadata": {
    "colab": {},
    "colab_type": "code",
    "id": "GvoTaxNw9lw-"
   },
   "outputs": [],
   "source": [
    "sparse_training_matrix, training_matrix = read_training_data()\n",
    "ground_truth = read_ground_truth()\n",
    "poi_coos = read_poi_coos()"
   ]
  },
  {
   "cell_type": "markdown",
   "metadata": {
    "colab_type": "text",
    "id": "BZRi3l9UCpKp"
   },
   "source": [
    "## Collaborative Filtering\n",
    "As mentioned earlier, one of the most popular approaches in recommender systems is __Collaborative Filtering (CF)__. Initially, the main approach of CF used to be __user-based CF__ . After 2009, with the Netflix chanllenge __Matrix Factorization (MF)__, as a __Model-based CF__ approach has become more popular. The user-based approach seems to perfrom well when the dataset is small but MF shows more scalability with respect to the size of the dataset. In this lab, we will first consider and implement a user-based CF to recommend locations to users, then we proceed with implementing a MF-based approach. Finally, we show the impact of context in RS and integrate one of the most important contextual factors (geographic effect) in location recommendation to the MF model."
   ]
  },
  {
   "cell_type": "markdown",
   "metadata": {
    "colab_type": "text",
    "id": "ySj5_KG3erQ6"
   },
   "source": [
    "### User-Based Collaborative Filtering [1]\n",
    " A user-based system can use machine-learning algorithms to group all users who have shown that they have the same taste. The system builds neighborhoods of users who have similar profiles, purchase patterns, or rating patterns. If a person in a neighborhood buys and likes an item, the recommender system can recommend that item to everyone else in the neighborhood. Here, we used __cosine-based similarity__. The cosine-based approach defines the cosine-similarity between two users $x$ and $y$ as:\n",
    " \n",
    " $\\operatorname {sim} (x,y)=\\cos({\\vec {x}},{\\vec {y}})={\\frac {{\\vec {x}}\\cdot {\\vec {y}}}{||{\\vec {x}}||\\times ||{\\vec {y}}||}}={\\frac {\\sum \\limits _{i\\in I_{xy}}r_{x,i}r_{y,i}}{{\\sqrt {\\sum \\limits _{i\\in I_{x}}r_{x,i}^{2}}}{\\sqrt {\\sum \\limits _{i\\in I_{y}}r_{y,i}^{2}}}}}$"
   ]
  },
  {
   "cell_type": "code",
   "execution_count": 35,
   "metadata": {
    "colab": {},
    "colab_type": "code",
    "id": "VMg-KFROzxOL"
   },
   "outputs": [],
   "source": [
    "class UserBasedCF(object):\n",
    "  def __init__(self):\n",
    "    self.rec_score = None\n",
    "    self.epsilon = 1e-9\n",
    "    \n",
    "  def pre_compute_rec_scores(self, C):\n",
    "    ctime = time.time()\n",
    "    print(\"Training User-based Collaborative Filtering...\", )\n",
    "\n",
    "    sim = C.dot(C.T)\n",
    "    norms = [norm(C[i]) for i in range(C.shape[0])]\n",
    "\n",
    "    for i in range(C.shape[0]):\n",
    "      sim[i][i] = 0.0\n",
    "      for j in range(i+1, C.shape[0]):\n",
    "        sim[i][j] = sim[i][j] / ((norms[i] * norms[j]) + self.epsilon)\n",
    "        sim[j][i] = sim[i][j] / ((norms[i] * norms[j]) + self.epsilon)\n",
    "\n",
    "    self.rec_score = sim.dot(C)\n",
    "    print(\"Done. Elapsed time:\", time.time() - ctime, \"s\")\n",
    "\n",
    "  def predict(self, i, j):\n",
    "    return self.rec_score[i][j]\n"
   ]
  },
  {
   "cell_type": "markdown",
   "metadata": {
    "colab_type": "text",
    "id": "4v6fASRICSsu"
   },
   "source": [
    "## Evaluation process of recommendation (Precision and Recall)\n",
    "\n",
    "In pattern recognition, information retrieval and binary classification, precision (also called positive predictive value) is the fraction of relevant instances among the retrieved instances, while recall (also known as sensitivity) is the fraction of relevant instances that have been retrieved over the total amount of relevant instances. Both precision and recall are therefore based on an understanding and measure of relevance. You can read more on [Wikipedia](https://en.wikipedia.org/wiki/Precision_and_recall)."
   ]
  },
  {
   "cell_type": "code",
   "execution_count": 36,
   "metadata": {
    "colab": {},
    "colab_type": "code",
    "id": "bbaKaLlcCXOT"
   },
   "outputs": [],
   "source": [
    "def precisionk(actual, predicted):\n",
    "  return 1.0 * len(set(actual) & set(predicted)) / len(predicted)"
   ]
  },
  {
   "cell_type": "code",
   "execution_count": 37,
   "metadata": {
    "colab": {},
    "colab_type": "code",
    "id": "fhjGJcSoCW36"
   },
   "outputs": [],
   "source": [
    "def recallk(actual, predicted):\n",
    "  return 1.0 * len(set(actual) & set(predicted)) / len(actual)"
   ]
  },
  {
   "cell_type": "markdown",
   "metadata": {
    "colab_type": "text",
    "id": "SSbZL4luE7uR"
   },
   "source": [
    "## Store the evaluation values\n",
    "\n",
    "In order to store the results of each method based on each users, we have defined some global variables (as [list](https://docs.python.org/3/tutorial/datastructures.html#more-on-lists)) to store each user's precision and recall."
   ]
  },
  {
   "cell_type": "code",
   "execution_count": 38,
   "metadata": {
    "colab": {},
    "colab_type": "code",
    "id": "PEXXk7SvE6po"
   },
   "outputs": [],
   "source": [
    "# precison and recall by user-based CF for each user\n",
    "precision_UB, recall_UB = [], []\n",
    "# precison and recall by Poisson Matrix Factorization Matrix Factorization for each user\n",
    "precision_MF, recall_MF = [], []\n",
    "# precison and recall by MF + Geographical Influence for each user\n",
    "precision_MFG, recall_MFG = [], []"
   ]
  },
  {
   "cell_type": "markdown",
   "metadata": {
    "colab_type": "text",
    "id": "C_rhwB3TevOQ"
   },
   "source": [
    "### Recommendation by User-based Collaborative Filtering (UB)"
   ]
  },
  {
   "cell_type": "code",
   "execution_count": 39,
   "metadata": {
    "colab": {},
    "colab_type": "code",
    "id": "n4kTkeEuvWyG"
   },
   "outputs": [],
   "source": [
    "def ub_runer():\n",
    "  top_k = 100\n",
    "  \n",
    "  # remove the last values from pre and rec\n",
    "  del precision_UB[:]\n",
    "  del recall_UB[:]\n",
    "  \n",
    "  U = UserBasedCF()\n",
    "  \n",
    "  # Compute the user-based CF\n",
    "  U.pre_compute_rec_scores(training_matrix)\n",
    "  \n",
    "  all_uids = list(range(n_users))\n",
    "  all_lids = list(range(n_locations))\n",
    "  np.random.shuffle(all_uids)\n",
    "  \n",
    "  # calculate the prediction value for each user on different items\n",
    "  for cnt, uid in enumerate(all_uids):   \n",
    "    if uid in ground_truth:\n",
    "      U_scores = [U.predict(uid, lid)\n",
    "                  if training_matrix[uid, lid] == 0 else -1\n",
    "                  for lid in all_lids]\n",
    "      \n",
    "      U_scores = np.array(U_scores)\n",
    "      \n",
    "      # sort the items based on their prediction value\n",
    "      predicted = list(reversed(U_scores.argsort()))[:top_k]\n",
    "      actual = ground_truth[uid]\n",
    "      \n",
    "      # compute each user's precision and recall\n",
    "      precision_UB.append(precisionk(actual, predicted[:10]))     \n",
    "      recall_UB.append(recallk(actual, predicted[:10]))\n",
    "      \n",
    "  print(\"pre@10:\", np.mean(precision_UB), \"rec@10:\", np.mean(recall_UB))    "
   ]
  },
  {
   "cell_type": "code",
   "execution_count": 40,
   "metadata": {
    "colab": {
     "base_uri": "https://localhost:8080/",
     "height": 68
    },
    "colab_type": "code",
    "id": "YbzOmVD2N6Gj",
    "outputId": "344066ff-1ac9-45b0-9b19-145a2cf05677"
   },
   "outputs": [
    {
     "name": "stdout",
     "output_type": "stream",
     "text": [
      "Training User-based Collaborative Filtering...\n",
      "Done. Elapsed time: 0.02326512336730957 s\n",
      "pre@10: 0.044999999999999984 rec@10: 0.029128869480040422\n"
     ]
    }
   ],
   "source": [
    "# Now, you can run the user-based CF\n",
    "ub_runer()"
   ]
  },
  {
   "cell_type": "markdown",
   "metadata": {
    "colab_type": "text",
    "id": "o_UKAy0Q9zJG"
   },
   "source": [
    "## Matrix Factorization\n",
    "A technique commonly used for these type of problems is to decompose the matrix of user-location-visits into two low rank matrices, and then compute distances based on the new space. The idea is to take the original visit count matrix, and then reduce that down to two much smaller matrices that approximate the original matrix when multiplied together. You can find more about MF in [quuxlbs blog post](http://www.quuxlabs.com/blog/2010/09/matrix-factorization-a-simple-tutorial-and-implementation-in-python/). Here, based on [2], we use a version of matrix factorization called __Poisson Factor Model__, that defines a Poisson distribution on the frequency. "
   ]
  },
  {
   "cell_type": "markdown",
   "metadata": {
    "colab_type": "text",
    "id": "TTfDm-NLFwiG"
   },
   "source": [
    "### Matrix Factorization: Poisson Factor Model [2]"
   ]
  },
  {
   "cell_type": "code",
   "execution_count": 41,
   "metadata": {
    "colab": {},
    "colab_type": "code",
    "id": "h9NEiQBCFw-6"
   },
   "outputs": [],
   "source": [
    "class PoissonFactorModel(object):\n",
    "  def __init__(self, K=30, alpha=20.0, beta=0.2):\n",
    "    self.K = K\n",
    "    self.alpha = alpha\n",
    "    self.beta = beta\n",
    "    self.U, self.L = None, None\n",
    "\n",
    "  def train(self, sparse_check_in_matrix, max_iters=50, learning_rate=1e-4):\n",
    "    ctime = time.time()\n",
    "    print(\"Training PFM...\", )\n",
    "\n",
    "    alpha = self.alpha\n",
    "    beta = self.beta\n",
    "    K = self.K\n",
    "\n",
    "    F = sparse_check_in_matrix\n",
    "    M, N = sparse_check_in_matrix.shape\n",
    "    U = 0.5 * np.sqrt(np.random.gamma(alpha, beta, (M, K))) / K\n",
    "    L = 0.5 * np.sqrt(np.random.gamma(alpha, beta, (N, K))) / K\n",
    "\n",
    "    F = F.tocoo()\n",
    "    entry_index = list(zip(F.row, F.col))\n",
    "\n",
    "    F = F.tocsr()\n",
    "    F_dok = F.todok()\n",
    "\n",
    "    tau = 10\n",
    "    last_loss = float('Inf')\n",
    "    for iters in range(max_iters):\n",
    "      F_Y = F_dok.copy()\n",
    "      for i, j in entry_index:\n",
    "        F_Y[i, j] = 1.0 * F_dok[i, j] / U[i].dot(L[j]) - 1\n",
    "      F_Y = F_Y.tocsr()\n",
    "\n",
    "      learning_rate_k = learning_rate * tau / (tau + iters)\n",
    "      U += learning_rate_k * (F_Y.dot(L) + (alpha - 1) / U - 1 / beta)\n",
    "      L += learning_rate_k * ((F_Y.T).dot(U) + (alpha - 1) / L - 1 / beta)\n",
    "\n",
    "      loss = 0.0\n",
    "      for i, j in entry_index:\n",
    "        loss += (F_dok[i, j] - U[i].dot(L[j]))**2\n",
    "\n",
    "      print('Iteration:', iters,  'loss:', loss)\n",
    "\n",
    "      if loss > last_loss:\n",
    "        print(\"Early termination.\")\n",
    "        break\n",
    "        last_loss = loss\n",
    "\n",
    "      print(\"Done. Elapsed time:\", time.time() - ctime, \"s\")\n",
    "      self.U, self.L = U, L\n",
    "\n",
    "  def predict(self, uid, lid, sigmoid=False):\n",
    "    if sigmoid:\n",
    "      return 1.0 / (1 + math.exp(-self.U[uid].dot(self.L[lid])))\n",
    "    return self.U[uid].dot(self.L[lid])"
   ]
  },
  {
   "cell_type": "markdown",
   "metadata": {
    "colab_type": "text",
    "id": "D4jOnzqBYJ2Z"
   },
   "source": [
    "### Recommendation by the Matrix Factoriztion (MF)"
   ]
  },
  {
   "cell_type": "code",
   "execution_count": 42,
   "metadata": {
    "colab": {},
    "colab_type": "code",
    "id": "UeV5UG_5YOx9"
   },
   "outputs": [],
   "source": [
    "def mf_runer():\n",
    "  \n",
    "  top_k = 100\n",
    "  \n",
    "  del precision_MF[:]\n",
    "  del recall_MF[:]\n",
    "  \n",
    "  \n",
    "  PFM = PoissonFactorModel(K=30, alpha=20.0, beta=0.2)\n",
    "  PFM.train(sparse_training_matrix, max_iters=10, learning_rate=1e-4)\n",
    "  \n",
    "  all_uids = list(range(n_users))\n",
    "  all_lids = list(range(n_locations))\n",
    "  np.random.shuffle(all_uids)\n",
    "    \n",
    "  for cnt, uid in enumerate(all_uids):\n",
    "    if (int(cnt) != 0 and int(cnt) % 100 == 0):\n",
    "      print(\"Passed\", int(cnt), \"/\", n_users, \"by Precision@10 and Recall@10: \",  np.mean(precision_MF), \"and\", np.mean(recall_MF))\n",
    "    if uid in ground_truth:\n",
    "      overall_scores = [PFM.predict(uid, lid)\n",
    "                        if training_matrix[uid, lid] == 0 else -1\n",
    "                        for lid in all_lids]     \n",
    "      \n",
    "      overall_scores = np.array(overall_scores)\n",
    "\n",
    "      predicted = list(reversed(overall_scores.argsort()))[:top_k]\n",
    "      actual = ground_truth[uid]\n",
    "      \n",
    "      precision_MF.append(precisionk(actual, predicted[:10]))\n",
    "      recall_MF.append(recallk(actual, predicted[:10]))\n",
    "      \n",
    "  print(\">> Finally Precision@10:\", np.mean(precision_MF), \"Recall@10:\", np.mean(recall_MF))"
   ]
  },
  {
   "cell_type": "code",
   "execution_count": 43,
   "metadata": {
    "colab": {
     "base_uri": "https://localhost:8080/",
     "height": 391
    },
    "colab_type": "code",
    "id": "RvjR4qnjYvs8",
    "outputId": "4c889888-6c98-45b5-ea0b-98c27f133c88"
   },
   "outputs": [
    {
     "name": "stdout",
     "output_type": "stream",
     "text": [
      "Training PFM...\n",
      "Iteration: 0 loss: 153775.0742121855\n",
      "Done. Elapsed time: 0.4833698272705078 s\n",
      "Iteration: 1 loss: 150364.50931747383\n",
      "Done. Elapsed time: 0.9035508632659912 s\n",
      "Iteration: 2 loss: 147652.94767959445\n",
      "Done. Elapsed time: 1.378556728363037 s\n",
      "Iteration: 3 loss: 145432.11644497717\n",
      "Done. Elapsed time: 1.8299260139465332 s\n",
      "Iteration: 4 loss: 143583.03201941596\n",
      "Done. Elapsed time: 2.2872118949890137 s\n",
      "Iteration: 5 loss: 142026.3093125329\n",
      "Done. Elapsed time: 2.7119579315185547 s\n",
      "Iteration: 6 loss: 140705.05505221526\n",
      "Done. Elapsed time: 3.1376450061798096 s\n",
      "Iteration: 7 loss: 139576.750484202\n",
      "Done. Elapsed time: 3.575303792953491 s\n",
      "Iteration: 8 loss: 138608.704472816\n",
      "Done. Elapsed time: 4.032614707946777 s\n",
      "Iteration: 9 loss: 137775.24553683915\n",
      "Done. Elapsed time: 4.454911947250366 s\n",
      ">> Finally Precision@10: 0.025999999999999995 Recall@10: 0.01728126224118449\n"
     ]
    }
   ],
   "source": [
    "mf_runer()"
   ]
  },
  {
   "cell_type": "markdown",
   "metadata": {
    "colab_type": "text",
    "id": "PPm-YQPAY2Ep"
   },
   "source": [
    "## Context Information"
   ]
  },
  {
   "cell_type": "markdown",
   "metadata": {
    "colab_type": "text",
    "id": "Wf2A4gT99h4Q"
   },
   "source": [
    "One of the most important pieces of context information is the Geographical (or _spatial_) information that shows the users' check-ins behavior. Geographical information allows us to focus recommendations on locations close to the user, keeping our recommendations relevant as a user travels. Users tend to check-in around several centers, where the check-in locations follow a Gaussian distribution at each center as shown in the following piece of code for a typical user’s check-in behavior."
   ]
  },
  {
   "cell_type": "code",
   "execution_count": 44,
   "metadata": {
    "colab": {
     "base_uri": "https://localhost:8080/",
     "height": 740
    },
    "colab_type": "code",
    "id": "excCJaGeo9hB",
    "outputId": "e14029c7-9b94-4766-af84-dd421d3da82f"
   },
   "outputs": [
    {
     "data": {
      "text/html": [
       "<div style=\"width:100%;\"><div style=\"position:relative;width:100%;height:0;padding-bottom:60%;\"><iframe src=\"data:text/html;charset=utf-8;base64,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\" style=\"position:absolute;width:100%;height:100%;left:0;top:0;border:none !important;\" allowfullscreen webkitallowfullscreen mozallowfullscreen></iframe></div></div>"
      ],
      "text/plain": [
       "<folium.folium.Map at 0x10db175c0>"
      ]
     },
     "execution_count": 44,
     "metadata": {},
     "output_type": "execute_result"
    }
   ],
   "source": [
    "# which user's check-ins distribution want to show?\n",
    "which_user = 0\n",
    "\n",
    "locationlist = []\n",
    "# get the locations that have been checked-in by which_user\n",
    "for user_checkins in range(training_matrix.shape[0]):\n",
    "  if user_checkins == which_user:\n",
    "    locations = training_matrix[user_checkins].nonzero()\n",
    "  break\n",
    "  \n",
    "for locs in locations:\n",
    "  for loc in locs:\n",
    "    lat, lng = poi_coos[loc]\n",
    "    # Make a list with the coordinates of each location\n",
    "    locationlist.append([lat, lng])\n",
    "\n",
    "# Open a map and initialize it with the coordinates\n",
    "map = folium.Map(location=locationlist[0], zoom_start=5)\n",
    "# add to the map all different locations\n",
    "for point in range(0, len(locationlist)):\n",
    "    folium.Marker(locationlist[point]).add_to(map)\n",
    "map"
   ]
  },
  {
   "cell_type": "markdown",
   "metadata": {
    "colab_type": "text",
    "id": "iarhCXloPGqQ"
   },
   "source": [
    "### Geographical Information: Multi-center Gaussian Model"
   ]
  },
  {
   "cell_type": "markdown",
   "metadata": {
    "colab_type": "text",
    "id": "ttZljKD5_C_A"
   },
   "source": [
    "Here, we consider embedding the geographical influence based on the idea mentioned above. Then, we fused the geographical influence into our MF method to show the impact of contextual information."
   ]
  },
  {
   "cell_type": "markdown",
   "metadata": {
    "colab_type": "text",
    "id": "cM_EmZK2YKZ4"
   },
   "source": [
    "#### Find the distance between to locations"
   ]
  },
  {
   "cell_type": "code",
   "execution_count": 45,
   "metadata": {
    "colab": {},
    "colab_type": "code",
    "id": "YZfRRK_JYIH8"
   },
   "outputs": [],
   "source": [
    "def dist(loc1, loc2):\n",
    "    lat1, long1 = loc1.lat, loc1.lng\n",
    "    lat2, long2 = loc2.lat, loc2.lng\n",
    "    if abs(lat1 - lat2) < 1e-6 and abs(long1 - long2) < 1e-6:\n",
    "        return 0.0\n",
    "    degrees_to_radians = math.pi/180.0\n",
    "    phi1 = (90.0 - lat1)*degrees_to_radians\n",
    "    phi2 = (90.0 - lat2)*degrees_to_radians\n",
    "    theta1 = long1*degrees_to_radians\n",
    "    theta2 = long2*degrees_to_radians\n",
    "    cos = (math.sin(phi1)*math.sin(phi2)*math.cos(theta1 - theta2) +\n",
    "           math.cos(phi1)*math.cos(phi2))\n",
    "    arc = math.acos(cos)\n",
    "    earth_radius = 6371\n",
    "    return arc * earth_radius"
   ]
  },
  {
   "cell_type": "markdown",
   "metadata": {
    "colab_type": "text",
    "id": "1JUtm3ohYQTI"
   },
   "source": [
    "#### The geographical approach"
   ]
  },
  {
   "cell_type": "code",
   "execution_count": 46,
   "metadata": {
    "colab": {},
    "colab_type": "code",
    "id": "9BYmxP8yFYdh"
   },
   "outputs": [],
   "source": [
    "class Location(object):\n",
    "    def __init__(self, id, lat, lng, freq, center=-1):\n",
    "        self.id = id\n",
    "        self.lat = lat\n",
    "        self.lng = lng\n",
    "        self.freq = freq\n",
    "        self.center = center\n",
    "\n",
    "\n",
    "class Center(object):\n",
    "    def __init__(self):\n",
    "        self.locations = []\n",
    "        self.total_freq = 0\n",
    "        self.distribution = None\n",
    "        self.mu = None\n",
    "        self.cov = None\n",
    "        self.lat = None\n",
    "        self.lng = None\n",
    "\n",
    "    def add(self, loc):\n",
    "        self.locations.append(loc)\n",
    "        self.total_freq += loc.freq\n",
    "\n",
    "    def build_gaussian(self):\n",
    "        coo_seq = []\n",
    "        for loc in self.locations:\n",
    "            for _ in range(int(loc.freq)):\n",
    "                coo_seq.append(np.array([loc.lat, loc.lng]))\n",
    "        coo_seq = np.array(coo_seq)\n",
    "        self.mu = np.mean(coo_seq, axis=0)\n",
    "        self.cov = np.cov(coo_seq.T)\n",
    "        self.distribution = multivariate_normal(self.mu, self.cov, allow_singular=True)\n",
    "        self.lat = self.mu[0]\n",
    "        self.lng = self.mu[1]\n",
    "\n",
    "    def pdf(self, x):\n",
    "        return self.distribution.pdf(np.array([x.lat, x.lng]))\n",
    "\n",
    "\n",
    "class MultiGaussianModel(object):\n",
    "    def __init__(self, alpha=0.2, theta=0.02, dmax=15):\n",
    "        self.alpha = alpha\n",
    "        self.theta = theta\n",
    "        self.dmax = dmax\n",
    "        self.poi_coos = None\n",
    "        self.center_list = None\n",
    "\n",
    "    def build_user_check_in_profile(self, sparse_check_in_matrix):\n",
    "        L = defaultdict(list)\n",
    "        for (uid, lid), freq in sparse_check_in_matrix.items():\n",
    "            lat, lng = self.poi_coos[lid]\n",
    "            L[uid].append(Location(lid, lat, lng, freq))\n",
    "        return L\n",
    "\n",
    "    def discover_user_centers(self, Lu):\n",
    "        center_min_freq = max(sum([loc.freq for loc in Lu]) * self.theta, 2)\n",
    "        Lu.sort(key=lambda k: k.freq, reverse=True)\n",
    "        center_list = []\n",
    "        center_num = 0\n",
    "        for i in range(len(Lu)):\n",
    "            if Lu[i].center == -1:\n",
    "                center_num += 1\n",
    "                center = Center()\n",
    "                center.add(Lu[i])\n",
    "                Lu[i].center = center_num\n",
    "                for j in range(i+1, len(Lu)):\n",
    "                    if Lu[j].center == -1 and dist(Lu[i], Lu[j]) <= self.dmax:\n",
    "                        Lu[j].center = center_num\n",
    "                        center.add(Lu[j])\n",
    "                if center.total_freq >= center_min_freq:\n",
    "                    center_list.append(center)\n",
    "        return center_list\n",
    "\n",
    "    def multi_center_discovering(self, sparse_check_in_matrix, poi_coos):\n",
    "        self.poi_coos = poi_coos\n",
    "        L = self.build_user_check_in_profile(sparse_check_in_matrix)\n",
    "\n",
    "        center_list = {}\n",
    "        for uid in range(len(L)):\n",
    "            center_list[uid] = self.discover_user_centers(L[uid])\n",
    "            for cid in range(len(center_list[uid])):\n",
    "                center_list[uid][cid].build_gaussian()\n",
    "        self.center_list = center_list\n",
    "\n",
    "    def predict(self, uid, lid):\n",
    "        lat, lng = self.poi_coos[lid]\n",
    "        l = Location(None, lat, lng, None)\n",
    "\n",
    "        prob = 0.0\n",
    "        if uid in self.center_list:\n",
    "            all_center_freq = sum([cid.total_freq**self.alpha for cid in self.center_list[uid]])\n",
    "            all_center_pdf = sum([cid.pdf(l) for cid in self.center_list[uid]])\n",
    "            if not all_center_pdf == 0:\n",
    "                for cu in self.center_list[uid]:\n",
    "                    prob += (\n",
    "                        1.0 / (dist(l, cu) + 1) *\n",
    "                        (cu.total_freq**self.alpha) / all_center_freq *\n",
    "                        cu.pdf(l) / all_center_pdf)\n",
    "        return prob"
   ]
  },
  {
   "cell_type": "markdown",
   "metadata": {
    "colab_type": "text",
    "id": "IWf3nafNF2QV"
   },
   "source": [
    "### Run the Matrix Factorization with Multi-Center Geographical Model (MFG)"
   ]
  },
  {
   "cell_type": "code",
   "execution_count": 47,
   "metadata": {
    "colab": {},
    "colab_type": "code",
    "id": "6jEjVD33iXiw"
   },
   "outputs": [],
   "source": [
    "def mfg_runer():\n",
    "  \n",
    "  top_k = 100\n",
    "  \n",
    "  del precision_MFG[:]\n",
    "  del recall_MFG[:]\n",
    "  \n",
    "  PFM = PoissonFactorModel(K=30, alpha=20.0, beta=0.2)\n",
    "  PFM.train(sparse_training_matrix, max_iters=10, learning_rate=1e-4)\n",
    "  \n",
    "  print(\"Starting Multi-Center Gaussian Model ...\")\n",
    "  MGM = MultiGaussianModel(alpha=0.2, theta=0.02, dmax=15)\n",
    "  MGM.multi_center_discovering(sparse_training_matrix, poi_coos)\n",
    "  print(\"Done Multi-Center Gaussian Model.\")\n",
    "  \n",
    "  all_uids = list(range(n_users))\n",
    "  all_lids = list(range(n_locations))\n",
    "  np.random.shuffle(all_uids)\n",
    "    \n",
    "  for cnt, uid in enumerate(all_uids):\n",
    "    if (int(cnt) != 0 and int(cnt) % 100 == 0):\n",
    "      print(\"Passed\", int(cnt), \"/\", n_users, \"by Precision@10 and Recall@10: \",  np.mean(precision_MFG), \"and\", np.mean(recall_MFG))\n",
    "    if uid in ground_truth:\n",
    "      overall_scores = [PFM.predict(uid, lid) * MGM.predict(uid, lid)\n",
    "                        if training_matrix[uid, lid] == 0 else -1\n",
    "                        for lid in all_lids]     \n",
    "      \n",
    "      overall_scores = np.array(overall_scores)\n",
    "\n",
    "      predicted = list(reversed(overall_scores.argsort()))[:top_k]\n",
    "      actual = ground_truth[uid]\n",
    "      \n",
    "      precision_MFG.append(precisionk(actual, predicted[:10]))\n",
    "      recall_MFG.append(recallk(actual, predicted[:10]))\n",
    "      \n",
    "  print(\">> Finally Precision@10:\", np.mean(precision_MFG), \"Recall@10:\", np.mean(recall_MFG))   "
   ]
  },
  {
   "cell_type": "code",
   "execution_count": null,
   "metadata": {
    "colab": {
     "base_uri": "https://localhost:8080/",
     "height": 425
    },
    "colab_type": "code",
    "id": "1pQcyEwaifTa",
    "outputId": "95073887-3aec-4409-d4f8-d83fc1380aad"
   },
   "outputs": [
    {
     "name": "stdout",
     "output_type": "stream",
     "text": [
      "Training PFM...\n",
      "Iteration: 0 loss: 153748.44272700133\n",
      "Done. Elapsed time: 0.5810122489929199 s\n",
      "Iteration: 1 loss: 150340.87873130923\n",
      "Done. Elapsed time: 0.9840230941772461 s\n",
      "Iteration: 2 loss: 147631.99659596282\n",
      "Done. Elapsed time: 1.404954195022583 s\n",
      "Iteration: 3 loss: 145413.5430163416\n",
      "Done. Elapsed time: 1.8383781909942627 s\n",
      "Iteration: 4 loss: 143566.57569360192\n",
      "Done. Elapsed time: 2.2838010787963867 s\n",
      "Iteration: 5 loss: 142011.74730569738\n",
      "Done. Elapsed time: 2.7031233310699463 s\n",
      "Iteration: 6 loss: 140692.19642876455\n",
      "Done. Elapsed time: 3.1351821422576904 s\n",
      "Iteration: 7 loss: 139565.43074305367\n",
      "Done. Elapsed time: 3.594578266143799 s\n",
      "Iteration: 8 loss: 138598.78103972494\n",
      "Done. Elapsed time: 4.086395263671875 s\n",
      "Iteration: 9 loss: 137766.59410123777\n",
      "Done. Elapsed time: 4.612605333328247 s\n",
      "Starting Multi-Center Gaussian Model ...\n",
      "Done Multi-Center Gaussian Model.\n"
     ]
    }
   ],
   "source": [
    "mfg_runer()"
   ]
  },
  {
   "cell_type": "markdown",
   "metadata": {
    "colab_type": "text",
    "id": "Xh4GBlODFf0l"
   },
   "source": [
    "## Expriment Comparsion"
   ]
  },
  {
   "cell_type": "code",
   "execution_count": null,
   "metadata": {
    "colab": {
     "base_uri": "https://localhost:8080/",
     "height": 401
    },
    "colab_type": "code",
    "id": "SnTpHs2SCizH",
    "outputId": "00749776-222d-4273-962d-c89d5017c391"
   },
   "outputs": [],
   "source": [
    "# data to plot\n",
    "n_groups = 3\n",
    "means_precision = (np.mean(precision_UB), np.mean(precision_MF), np.mean(precision_MFG))\n",
    "means_recall = (np.mean(recall_UB), np.mean(recall_MF), np.mean(recall_MFG))\n",
    "\n",
    " \n",
    "# create plot\n",
    "fig, ax = plt.subplots()\n",
    "index = np.arange(n_groups)\n",
    "bar_width = 0.25\n",
    "opacity = 0.8\n",
    " \n",
    "rects1 = plt.bar(index, means_precision, bar_width,\n",
    "alpha=opacity,\n",
    "label='Precision')\n",
    " \n",
    "rects2 = plt.bar(index + bar_width, means_recall, bar_width,\n",
    "alpha=opacity,\n",
    "label='Recall')\n",
    " \n",
    "plt.xlabel('Methods')\n",
    "plt.ylabel('Precision and Recall')\n",
    "plt.title('Results')\n",
    "plt.xticks(index + 0.1, ('UB', 'MF', 'MFG'))\n",
    "plt.legend()\n",
    " \n",
    "plt.tight_layout()\n",
    "plt.show()"
   ]
  },
  {
   "cell_type": "markdown",
   "metadata": {
    "colab_type": "text",
    "id": "Ft3GCk70A5Y5"
   },
   "source": [
    "### Significant results\n",
    "You see some difference in the bar chart above but to show whether the difference in results achieved is significant or not (i.e. there is a significant difference between the means of two distributions) you can use the _t-Test_. For this purpose, you need to run _t-Test_ for each result based on each metric. You can find more details in the following link and see how to use _t-Test_ in python with Scipy: [t-Test in Scipy](https://docs.scipy.org/doc/scipy/reference/generated/scipy.stats.ttest_ind.html)"
   ]
  },
  {
   "cell_type": "markdown",
   "metadata": {
    "colab_type": "text",
    "id": "7XKM8x0e9vZW"
   },
   "source": [
    "### Conclusion\n",
    "As you can see in the plot, UB method is outperforming other methods. Not achieveing better performance form MF based methods can be due to the inadequate size of the datatset used. The _user-based_ approach uses all of users' and items' information being a memory-based approach. Here, the dataset is very small, we only have considered data of 100 users. When the number of users and items grow, the MF approaches will show their performance gain better. We can also see that MFG is outperforming MF. This shows the impact of Context information in modeling users' behavior."
   ]
  },
  {
   "cell_type": "markdown",
   "metadata": {
    "colab_type": "text",
    "id": "-evygSNlY2XX"
   },
   "source": [
    "## Acknowledge\n",
    "For implemenation we got some information and useful review of the codes that provided by the following paper:  \n",
    "__Liu, Yiding, et al. \"An experimental evaluation of point-of-interest recommendation in location-based social networks.\" in VLDB, 2017__"
   ]
  },
  {
   "cell_type": "markdown",
   "metadata": {
    "colab_type": "text",
    "id": "vJUOWKG0UdTI"
   },
   "source": [
    "## References\n",
    "\n",
    "[1] __Ye, Mao, et al. \"Exploiting geographical influence for collaborative point-of-interest recommendation\" in SIGIR, 2011.__  \n",
    "[2] __Cheng, Chen, et al. \"Fused matrix factorization with geographical and social influence in location-based social networks\", in AAAI, 2012.__"
   ]
  }
 ],
 "metadata": {
  "colab": {
   "collapsed_sections": [],
   "name": "POI Recommender Systems.ipynb",
   "provenance": [],
   "version": "0.3.2"
  },
  "kernelspec": {
   "display_name": "Python 3",
   "language": "python",
   "name": "python3"
  },
  "language_info": {
   "codemirror_mode": {
    "name": "ipython",
    "version": 3
   },
   "file_extension": ".py",
   "mimetype": "text/x-python",
   "name": "python",
   "nbconvert_exporter": "python",
   "pygments_lexer": "ipython3",
   "version": "3.6.5"
  }
 },
 "nbformat": 4,
 "nbformat_minor": 1
}
